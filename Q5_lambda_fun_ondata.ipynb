{
 "cells": [
  {
   "cell_type": "markdown",
   "metadata": {},
   "source": [
    "##### Q5 Lambda function for data fields individual and combine lambda function"
   ]
  },
  {
   "cell_type": "code",
   "execution_count": 27,
   "metadata": {},
   "outputs": [
    {
     "name": "stdout",
     "output_type": "stream",
     "text": [
      "\n",
      "Student Data:\n",
      "Name: Sanket\n",
      "Email: wadesanket@gmail.com\n",
      "Mobile: 7972379828\n",
      "Gender: Male\n",
      "Course Name: Electronics\n"
     ]
    }
   ],
   "source": [
    "# Lambda functions for each field\n",
    "name = lambda: input(\"Enter your name: \")\n",
    "email = lambda: input(\"Enter your email: \")\n",
    "mobile = lambda: input(\"Enter your mobile number: \")\n",
    "gender = lambda: input(\"Enter your gender (Male/Female): \")\n",
    "course = lambda: input(\"Enter your course name (Electronic, Mechanical, IT, Electrical, EnTC): \")\n",
    "\n",
    "# Collect user inputs using the lambda functions\n",
    "name = name()\n",
    "email = email()\n",
    "mobile = mobile()\n",
    "gender = gender()\n",
    "course = course()\n",
    "\n",
    "# save the collected data in a dictionary\n",
    "user_data = {\n",
    "    \"Name\": name,\n",
    "    \"Email\": email,\n",
    "    \"Mobile\": mobile,\n",
    "    \"Gender\": gender,\n",
    "    \"Course Name\": course\n",
    "}\n",
    "\n",
    "# Print the user data\n",
    "print(\"\\nStudent Data:\")\n",
    "for key, value in user_data.items():\n",
    "    print(f\"{key}: {value}\")\n",
    "\n",
    "\n"
   ]
  },
  {
   "cell_type": "markdown",
   "metadata": {},
   "source": []
  },
  {
   "cell_type": "code",
   "execution_count": 20,
   "metadata": {},
   "outputs": [
    {
     "name": "stdout",
     "output_type": "stream",
     "text": [
      "The student's name is Sanket\n"
     ]
    }
   ],
   "source": [
    "\n",
    "name = lambda name: f\"The student's name is {name}\"\n",
    "\n",
    "# Example usage\n",
    "print(name(\"Sanket\"))"
   ]
  },
  {
   "cell_type": "code",
   "execution_count": 21,
   "metadata": {},
   "outputs": [
    {
     "data": {
      "text/plain": [
       "''"
      ]
     },
     "execution_count": 21,
     "metadata": {},
     "output_type": "execute_result"
    }
   ],
   "source": [
    "name = lambda : input(\"Enter your name\")\n",
    "name = name()\n",
    "name\n"
   ]
  },
  {
   "cell_type": "code",
   "execution_count": 22,
   "metadata": {},
   "outputs": [
    {
     "data": {
      "text/plain": [
       "''"
      ]
     },
     "execution_count": 22,
     "metadata": {},
     "output_type": "execute_result"
    }
   ],
   "source": [
    "email = lambda : input(\"Enter your name\")\n",
    "email = email()\n",
    "email"
   ]
  },
  {
   "cell_type": "code",
   "execution_count": 23,
   "metadata": {},
   "outputs": [
    {
     "data": {
      "text/plain": [
       "''"
      ]
     },
     "execution_count": 23,
     "metadata": {},
     "output_type": "execute_result"
    }
   ],
   "source": [
    "mobile = lambda : input(\"Enter your name\")\n",
    "mobile = mobile()\n",
    "mobile\n"
   ]
  },
  {
   "cell_type": "code",
   "execution_count": 24,
   "metadata": {},
   "outputs": [
    {
     "data": {
      "text/plain": [
       "''"
      ]
     },
     "execution_count": 24,
     "metadata": {},
     "output_type": "execute_result"
    }
   ],
   "source": [
    "gender = lambda : input(\"Enter gender Male or Female\")\n",
    "gender = gender()\n",
    "gender.title()"
   ]
  },
  {
   "cell_type": "code",
   "execution_count": 25,
   "metadata": {},
   "outputs": [
    {
     "data": {
      "text/plain": [
       "''"
      ]
     },
     "execution_count": 25,
     "metadata": {},
     "output_type": "execute_result"
    }
   ],
   "source": [
    "course = lambda: input('Enter Courses->[Electronic, IT, Mechanical, Electrical, Civil]')\n",
    "course = course()\n",
    "course"
   ]
  },
  {
   "cell_type": "code",
   "execution_count": null,
   "metadata": {},
   "outputs": [],
   "source": []
  },
  {
   "cell_type": "code",
   "execution_count": null,
   "metadata": {},
   "outputs": [],
   "source": []
  },
  {
   "cell_type": "code",
   "execution_count": null,
   "metadata": {},
   "outputs": [],
   "source": []
  }
 ],
 "metadata": {
  "kernelspec": {
   "display_name": "Python 3",
   "language": "python",
   "name": "python3"
  },
  "language_info": {
   "codemirror_mode": {
    "name": "ipython",
    "version": 3
   },
   "file_extension": ".py",
   "mimetype": "text/x-python",
   "name": "python",
   "nbconvert_exporter": "python",
   "pygments_lexer": "ipython3",
   "version": "3.8.10"
  }
 },
 "nbformat": 4,
 "nbformat_minor": 2
}
