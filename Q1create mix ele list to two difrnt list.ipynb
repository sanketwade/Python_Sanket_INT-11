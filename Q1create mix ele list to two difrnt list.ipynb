{
 "cells": [
  {
   "cell_type": "markdown",
   "id": "8752de74-4b1b-4d17-b61a-479d9d683266",
   "metadata": {},
   "source": [
    "##### Q-1 : Create the list of mix element by asking user to enter the values. Segregate the mixed data type list into two different list "
   ]
  },
  {
   "cell_type": "code",
   "execution_count": 43,
   "id": "c8be7091-45be-4489-b89c-80ab83d8bc7d",
   "metadata": {},
   "outputs": [
    {
     "name": "stdout",
     "output_type": "stream",
     "text": [
      "[1, 2, 3, 4, 5, 6]\n",
      "['sanket', 'akash', 'Ruchita']\n"
     ]
    }
   ],
   "source": [
    "##### Method 1 #####\n",
    "## using isintannce \n",
    "\n",
    "\"\"\"Python isinstance() function returns True if the object is of specified types,\n",
    "and if it does not match then returns False. In this article we will see how isinstance() method works in Python\"\"\"\n",
    "\n",
    "list1  = [1,2,3,4,5,6,\"sanket\",\"akash\",\"Ruchita\"]\n",
    "non_string_list = []\n",
    "string_list = []\n",
    "\n",
    "for element in list1:\n",
    "    #print(element)\n",
    "    if isinstance(element,(int,float)):\n",
    "        #print(\"check\")\n",
    "        non_string_list.append(element)\n",
    "    else:\n",
    "        string_list.append(element)\n",
    "\n",
    "print(non_string_list)\n",
    "print(string_list)"
   ]
  },
  {
   "cell_type": "code",
   "execution_count": 42,
   "id": "c57c2818-e2e9-4ad9-8bb1-01238efff6bb",
   "metadata": {},
   "outputs": [
    {
     "name": "stdout",
     "output_type": "stream",
     "text": [
      "Enter the number of elements you want to add to the list:  5\n",
      "Enter a value (string, number, etc.):  sanket\n",
      "Enter a value (string, number, etc.):  wade\n",
      "Enter a value (string, number, etc.):  9\n",
      "Enter a value (string, number, etc.):  85\n",
      "Enter a value (string, number, etc.):  25\n"
     ]
    },
    {
     "name": "stdout",
     "output_type": "stream",
     "text": [
      "\n",
      "Original Mixed List: ['sanket', 'wade', 9, 85, 25]\n",
      "Strings List: ['sanket', 'wade']\n",
      "Non-Strings List: [9, 85, 25]\n"
     ]
    }
   ],
   "source": [
    "##### Method 2 #####\n",
    "\n",
    "## usinig try and except \n",
    "\n",
    "\n",
    "# Initi lists\n",
    "mixed_list = []\n",
    "strings_list = []\n",
    "non_strings_list = []\n",
    "\n",
    "# Ask the user how many elements they want to enter\n",
    "num_elements = int(input(\"Enter the number of elements you want to add to the list: \" ))\n",
    "\n",
    "# Collect elements from the user\n",
    "for _ in range(num_elements):\n",
    "    element = input(\"Enter a value (string, number, etc.): \")\n",
    "    # Attempt to cast to a number, if possible\n",
    "    try:\n",
    "        # Evaluate the input to its appropriate data type\n",
    "        value = eval(element)\n",
    "    except:\n",
    "        # Treat as a string if eval fails\n",
    "        value = element\n",
    "    mixed_list.append(value)\n",
    "\n",
    "# Segregate elements into strings and non-strings\n",
    "for item in mixed_list:\n",
    "    if isinstance(item, str):\n",
    "        strings_list.append(item)\n",
    "    else:\n",
    "        non_strings_list.append(item)\n",
    "\n",
    "# Display the results\n",
    "print(\"\\nOriginal Mixed List:\", mixed_list)\n",
    "print(\"Strings List:\", strings_list)\n",
    "print(\"Non-Strings List:\", non_strings_list)\n"
   ]
  },
  {
   "cell_type": "code",
   "execution_count": 49,
   "id": "dc1b0c49-0825-4bf4-abef-24f3e286a047",
   "metadata": {},
   "outputs": [
    {
     "name": "stdout",
     "output_type": "stream",
     "text": [
      "Enter lenth of element 5\n",
      "Enter string, number or char whatever you want 52\n"
     ]
    },
    {
     "name": "stdout",
     "output_type": "stream",
     "text": [
      "52\n"
     ]
    },
    {
     "name": "stdout",
     "output_type": "stream",
     "text": [
      "Enter string, number or char whatever you want 25\n"
     ]
    },
    {
     "name": "stdout",
     "output_type": "stream",
     "text": [
      "25\n"
     ]
    },
    {
     "name": "stdout",
     "output_type": "stream",
     "text": [
      "Enter string, number or char whatever you want sanket\n",
      "Enter string, number or char whatever you want wade\n",
      "Enter string, number or char whatever you want 65\n"
     ]
    },
    {
     "name": "stdout",
     "output_type": "stream",
     "text": [
      "65\n"
     ]
    },
    {
     "data": {
      "text/plain": [
       "('non_string_list = [52, 25, 65]', \"string_list = ['sanket', 'wade']\")"
      ]
     },
     "execution_count": 49,
     "metadata": {},
     "output_type": "execute_result"
    }
   ],
   "source": [
    "##### Method 3 #####\n",
    "## using fucntiom\n",
    "\n",
    "def user_input(my_list):\n",
    "    \"\"\"function for take string number and charactor from user\"\"\"\n",
    "    mix_list = []\n",
    "    string_list = []\n",
    "    non_string_list =[]\n",
    "    for item in range(my_list):\n",
    "        element = input(\"Enter string, number or char whatever you want\")\n",
    "        try:\n",
    "            value = eval(element)\n",
    "            print(value)\n",
    "        except:\n",
    "            value = element\n",
    "        mix_list.append(value)\n",
    "    #     print(mix_list)\n",
    "    # print(mix_list)\n",
    "    for element in mix_list:\n",
    "        #print(element)\n",
    "        if isinstance(element,(int,float)):\n",
    "            #print(\"check\")\n",
    "            non_string_list.append(element)\n",
    "        else:\n",
    "            string_list.append(element)\n",
    "    list1 = \"non_string_list = {}\".format(non_string_list)\n",
    "    list2 = \"string_list = {}\".format(string_list)\n",
    "    return list1 ,  list2\n",
    "\n",
    "\n",
    "\n",
    "user_input(int(input(\"Enter lenth of element\")))\n",
    "        \n",
    "    \n",
    "\n",
    "\n",
    "\n",
    "        "
   ]
  },
  {
   "cell_type": "code",
   "execution_count": 51,
   "id": "1b63c58b-2ba9-464f-a493-64d5389eea38",
   "metadata": {},
   "outputs": [
    {
     "name": "stdout",
     "output_type": "stream",
     "text": [
      "[1, 2, 3, 4, 5, 6]\n",
      "['sanket', 'akash', 'Ruchita']\n"
     ]
    }
   ],
   "source": [
    "##### Method 4 #####\n",
    "\n",
    "## If and else codition\n",
    "\n",
    "list1  = [1,2,3,4,5,6,\"sanket\",\"akash\",\"Ruchita\"]\n",
    "non_string_list = []\n",
    "string_list = []\n",
    "\n",
    "for element in list1:\n",
    "    #print(element)\n",
    "    if isinstance(element,(int,float)):\n",
    "        #print(\"check\")\n",
    "        non_string_list.append(element)\n",
    "    else:\n",
    "        string_list.append(element)\n",
    "\n",
    "print(non_string_list)\n",
    "print(string_list)\n",
    "\n",
    "\n",
    "\n",
    "            \n",
    "    "
   ]
  },
  {
   "cell_type": "code",
   "execution_count": null,
   "id": "4a3dacdc-9c58-424e-8ebf-15ceeccd149d",
   "metadata": {},
   "outputs": [],
   "source": []
  },
  {
   "cell_type": "code",
   "execution_count": null,
   "id": "3f01cbe7-36d3-4338-b842-abcdc9ea3df8",
   "metadata": {},
   "outputs": [],
   "source": []
  },
  {
   "cell_type": "code",
   "execution_count": null,
   "id": "8c163e04-6ec1-43bc-b462-a7cabd64d545",
   "metadata": {},
   "outputs": [],
   "source": []
  },
  {
   "cell_type": "code",
   "execution_count": null,
   "id": "2960ea16-c08e-4878-a747-fbecd44ba08c",
   "metadata": {},
   "outputs": [],
   "source": []
  }
 ],
 "metadata": {
  "kernelspec": {
   "display_name": "Python 3 (ipykernel)",
   "language": "python",
   "name": "python3"
  },
  "language_info": {
   "codemirror_mode": {
    "name": "ipython",
    "version": 3
   },
   "file_extension": ".py",
   "mimetype": "text/x-python",
   "name": "python",
   "nbconvert_exporter": "python",
   "pygments_lexer": "ipython3",
   "version": "3.11.7"
  }
 },
 "nbformat": 4,
 "nbformat_minor": 5
}
