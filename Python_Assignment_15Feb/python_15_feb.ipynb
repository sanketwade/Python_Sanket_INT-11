{
 "cells": [
  {
   "cell_type": "markdown",
   "metadata": {},
   "source": [
    "#### 1. Create the empty list and ask user to enters only int, float elements in the list."
   ]
  },
  {
   "cell_type": "code",
   "execution_count": 2,
   "metadata": {},
   "outputs": [
    {
     "name": "stdout",
     "output_type": "stream",
     "text": [
      "Enter the 'end' if list complite\n",
      "\n"
     ]
    },
    {
     "ename": "KeyboardInterrupt",
     "evalue": "Interrupted by user",
     "output_type": "error",
     "traceback": [
      "\u001b[1;31m---------------------------------------------------------------------------\u001b[0m",
      "\u001b[1;31mKeyboardInterrupt\u001b[0m                         Traceback (most recent call last)",
      "Cell \u001b[1;32mIn[2], line 5\u001b[0m\n\u001b[0;32m      3\u001b[0m \u001b[38;5;28mprint\u001b[39m(\u001b[38;5;124m\"\u001b[39m\u001b[38;5;124mEnter the \u001b[39m\u001b[38;5;124m'\u001b[39m\u001b[38;5;124mend\u001b[39m\u001b[38;5;124m'\u001b[39m\u001b[38;5;124m if list complite\u001b[39m\u001b[38;5;130;01m\\n\u001b[39;00m\u001b[38;5;124m\"\u001b[39m)\n\u001b[0;32m      4\u001b[0m \u001b[38;5;28;01mwhile\u001b[39;00m \u001b[38;5;28;01mTrue\u001b[39;00m:\n\u001b[1;32m----> 5\u001b[0m     usr_input \u001b[38;5;241m=\u001b[39m \u001b[38;5;28;43minput\u001b[39;49m\u001b[43m(\u001b[49m\u001b[38;5;124;43m\"\u001b[39;49m\u001b[38;5;124;43mEnter a number-->\u001b[39;49m\u001b[38;5;124;43m\"\u001b[39;49m\u001b[43m)\u001b[49m \n\u001b[0;32m      7\u001b[0m     \u001b[38;5;28;01mif\u001b[39;00m usr_input \u001b[38;5;241m==\u001b[39m \u001b[38;5;124m'\u001b[39m\u001b[38;5;124mend\u001b[39m\u001b[38;5;124m'\u001b[39m:\n\u001b[0;32m      8\u001b[0m         \u001b[38;5;28;01mbreak\u001b[39;00m\n",
      "File \u001b[1;32m~\\AppData\\Local\\Packages\\PythonSoftwareFoundation.Python.3.8_qbz5n2kfra8p0\\LocalCache\\local-packages\\Python38\\site-packages\\ipykernel\\kernelbase.py:1282\u001b[0m, in \u001b[0;36mKernel.raw_input\u001b[1;34m(self, prompt)\u001b[0m\n\u001b[0;32m   1280\u001b[0m     msg \u001b[38;5;241m=\u001b[39m \u001b[38;5;124m\"\u001b[39m\u001b[38;5;124mraw_input was called, but this frontend does not support input requests.\u001b[39m\u001b[38;5;124m\"\u001b[39m\n\u001b[0;32m   1281\u001b[0m     \u001b[38;5;28;01mraise\u001b[39;00m StdinNotImplementedError(msg)\n\u001b[1;32m-> 1282\u001b[0m \u001b[38;5;28;01mreturn\u001b[39;00m \u001b[38;5;28;43mself\u001b[39;49m\u001b[38;5;241;43m.\u001b[39;49m\u001b[43m_input_request\u001b[49m\u001b[43m(\u001b[49m\n\u001b[0;32m   1283\u001b[0m \u001b[43m    \u001b[49m\u001b[38;5;28;43mstr\u001b[39;49m\u001b[43m(\u001b[49m\u001b[43mprompt\u001b[49m\u001b[43m)\u001b[49m\u001b[43m,\u001b[49m\n\u001b[0;32m   1284\u001b[0m \u001b[43m    \u001b[49m\u001b[38;5;28;43mself\u001b[39;49m\u001b[38;5;241;43m.\u001b[39;49m\u001b[43m_parent_ident\u001b[49m\u001b[43m[\u001b[49m\u001b[38;5;124;43m\"\u001b[39;49m\u001b[38;5;124;43mshell\u001b[39;49m\u001b[38;5;124;43m\"\u001b[39;49m\u001b[43m]\u001b[49m\u001b[43m,\u001b[49m\n\u001b[0;32m   1285\u001b[0m \u001b[43m    \u001b[49m\u001b[38;5;28;43mself\u001b[39;49m\u001b[38;5;241;43m.\u001b[39;49m\u001b[43mget_parent\u001b[49m\u001b[43m(\u001b[49m\u001b[38;5;124;43m\"\u001b[39;49m\u001b[38;5;124;43mshell\u001b[39;49m\u001b[38;5;124;43m\"\u001b[39;49m\u001b[43m)\u001b[49m\u001b[43m,\u001b[49m\n\u001b[0;32m   1286\u001b[0m \u001b[43m    \u001b[49m\u001b[43mpassword\u001b[49m\u001b[38;5;241;43m=\u001b[39;49m\u001b[38;5;28;43;01mFalse\u001b[39;49;00m\u001b[43m,\u001b[49m\n\u001b[0;32m   1287\u001b[0m \u001b[43m\u001b[49m\u001b[43m)\u001b[49m\n",
      "File \u001b[1;32m~\\AppData\\Local\\Packages\\PythonSoftwareFoundation.Python.3.8_qbz5n2kfra8p0\\LocalCache\\local-packages\\Python38\\site-packages\\ipykernel\\kernelbase.py:1325\u001b[0m, in \u001b[0;36mKernel._input_request\u001b[1;34m(self, prompt, ident, parent, password)\u001b[0m\n\u001b[0;32m   1322\u001b[0m \u001b[38;5;28;01mexcept\u001b[39;00m \u001b[38;5;167;01mKeyboardInterrupt\u001b[39;00m:\n\u001b[0;32m   1323\u001b[0m     \u001b[38;5;66;03m# re-raise KeyboardInterrupt, to truncate traceback\u001b[39;00m\n\u001b[0;32m   1324\u001b[0m     msg \u001b[38;5;241m=\u001b[39m \u001b[38;5;124m\"\u001b[39m\u001b[38;5;124mInterrupted by user\u001b[39m\u001b[38;5;124m\"\u001b[39m\n\u001b[1;32m-> 1325\u001b[0m     \u001b[38;5;28;01mraise\u001b[39;00m \u001b[38;5;167;01mKeyboardInterrupt\u001b[39;00m(msg) \u001b[38;5;28;01mfrom\u001b[39;00m \u001b[38;5;28;01mNone\u001b[39;00m\n\u001b[0;32m   1326\u001b[0m \u001b[38;5;28;01mexcept\u001b[39;00m \u001b[38;5;167;01mException\u001b[39;00m:\n\u001b[0;32m   1327\u001b[0m     \u001b[38;5;28mself\u001b[39m\u001b[38;5;241m.\u001b[39mlog\u001b[38;5;241m.\u001b[39mwarning(\u001b[38;5;124m\"\u001b[39m\u001b[38;5;124mInvalid Message:\u001b[39m\u001b[38;5;124m\"\u001b[39m, exc_info\u001b[38;5;241m=\u001b[39m\u001b[38;5;28;01mTrue\u001b[39;00m)\n",
      "\u001b[1;31mKeyboardInterrupt\u001b[0m: Interrupted by user"
     ]
    }
   ],
   "source": [
    "\n",
    "empty_list = []\n",
    "\n",
    "print(\"Enter the 'end' if list complite\\n\")\n",
    "while True:\n",
    "    usr_input = input(\"Enter a number-->\") \n",
    "\n",
    "    if usr_input == 'end':\n",
    "        break\n",
    "    try:\n",
    "        fnum = float(usr_input)\n",
    "        if fnum.is_integer():\n",
    "            num = int(fnum)\n",
    "            empty_list.append(num)\n",
    "        else:\n",
    "            empty_list.append(fnum)\n",
    "    except ValueError:\n",
    "        print(\"Invalid input. please enter the integer or float number only\")\n",
    "print(empty_list)\n"
   ]
  },
  {
   "cell_type": "code",
   "execution_count": null,
   "metadata": {},
   "outputs": [
    {
     "name": "stdout",
     "output_type": "stream",
     "text": [
      "[]\n"
     ]
    }
   ],
   "source": []
  },
  {
   "cell_type": "markdown",
   "metadata": {},
   "source": [
    "#### 2.Create a empty dictionary d1 ask user to enter the values using loop "
   ]
  },
  {
   "cell_type": "code",
   "execution_count": null,
   "metadata": {},
   "outputs": [
    {
     "name": "stdout",
     "output_type": "stream",
     "text": [
      "{'sanket ': '+919632587410', 'sanket': '+919654783210'}\n"
     ]
    }
   ],
   "source": [
    "d1 = {}\n",
    "while True:\n",
    "    key = input(\"Enter the key:\")\n",
    "    if key == 'end':\n",
    "        break\n",
    "    value = input(\"Enter the value:\")\n",
    "    d1[key] = \"+91\" +  value\n",
    "\n",
    "print(d1)"
   ]
  },
  {
   "cell_type": "markdown",
   "metadata": {},
   "source": [
    "#### 3 Create a empty dictionary d1 ask user to enter the values using comprehensive list \n",
    "\n"
   ]
  },
  {
   "cell_type": "code",
   "execution_count": null,
   "metadata": {},
   "outputs": [
    {
     "name": "stdout",
     "output_type": "stream",
     "text": [
      "{'a': '1', 'b': '2', 'c': '3', 'd': '4', 'e': '5', 'f': '6', 'g': '7', 'h': '8', 'i': '9', 'j': '10', 'k': '1', 'l': '1', 'm': '2', 'n': '2', 'o': '', 'p': '2', 'q': '2', 'r': '33', 's': '324', 't': '453', 'u': '55', 'v': '6664467', 'w': '5', 'x': '75', 'y': '5', 'z': '45', 'A': 'E', 'B': '35545', 'C': '36', 'D': '5464', 'E': '664', 'F': '765', 'G': '765', '': '3', 'H': '5', 'J': '342', 'I': '4', 'K': '345345', 'L': '56', 'M': '5465466776', 'N': '43', 'O': '', 'P': '56434', 'Q': '564', 'R': '33', 'S': '53', 'T': '53', 'U': '5', 'V': '35', 'W': '3', 'X': '5', 'Y': '353556'}\n"
     ]
    }
   ],
   "source": [
    "d1 = {}\n",
    "num_pairs = int(input(\"How many key-value pairs do you want to enter? \"))\n",
    "keys = [input(\"Enter key {}: \".format(i+1)) for i in range(num_pairs)]\n",
    "values = [input(\"Enter value for {}: \".format(key)) for key in keys]\n",
    "d1 = dict(zip(keys, values)) \n",
    "\n",
    "print(d1)"
   ]
  },
  {
   "cell_type": "markdown",
   "metadata": {},
   "source": [
    "##### 4.Create a function which will accept two integer or float parameter from user and return"
   ]
  },
  {
   "cell_type": "code",
   "execution_count": null,
   "metadata": {},
   "outputs": [
    {
     "name": "stdout",
     "output_type": "stream",
     "text": [
      "(40, 0, 400, 1)\n",
      "first number : 20\n",
      "second number : 20\n",
      "The results of the arithmetic operations are: (40, 0, 400, 1)\n"
     ]
    }
   ],
   "source": [
    "\n",
    "# Method 1\n",
    "\n",
    "def arithmatic_opr():\n",
    "    num1 = input('enter the first number')\n",
    "    num2 = input('enter the second number')\n",
    "    try:\n",
    "        num1 = float(num1)\n",
    "        num2 = float(num2)\n",
    "\n",
    "        add = num1 + num2 \n",
    "        sub = num2 - num2\n",
    "        mul = num1 * num2\n",
    "        if num2 != 0:\n",
    "            div = num1/num2\n",
    "        else:\n",
    "             raise ZeroDivisionError(\"con't divide by zero\")\n",
    "    except TypeError:\n",
    "        raise TypeError(\"Input Must be integer or \")\n",
    "    except ZeroDivisionError as ze:\n",
    "        print(\"eroor\")\n",
    "\n",
    "    return (add, sub, mul, div)\n",
    "   \n",
    "arithmatic_opr()\n",
    "# ---------------------------------------------------------------------------------------------------\n",
    "# Method 2\n",
    "\n",
    "def claculator(a,b):\n",
    "  addition=a+b\n",
    "  substraction=a-b\n",
    "  multiplication=a*b\n",
    "  try:\n",
    "      floordivision=a//b\n",
    "  except (ZeroDivisionError):\n",
    "         print('Please enter number greater than zero')\n",
    "         floordivision=0\n",
    "  return (addition,substraction,multiplication,floordivision)\n",
    " \n",
    " \n",
    "try:\n",
    "    a=float(input(\"Enter the First number : \"))\n",
    "    b=float(input(\"Enter the second number : \"))\n",
    "    if a.is_integer():\n",
    "          a=int(a)\n",
    "         \n",
    "    if b.is_integer():\n",
    "          b=int(b)\n",
    "         \n",
    "    result=claculator(a,b)\n",
    "    print(result)            \n",
    "except ValueError:\n",
    "            print(\"Invalid input! Please enter a numeric value.\")\n",
    "   \n",
    " \n",
    "#----------------------------------------------------------------------------------------------------------\n",
    " # Method 3\n",
    "\n",
    "def arithmetic_operations(num1, num2):\n",
    " \n",
    "    if not (isinstance(num1, (int, float)) and isinstance(num2, (int, float))):\n",
    "        return \"Error: Both inputs must be integers or floats.\"\n",
    "       \n",
    "    add= num1 + num2\n",
    "    sub = num1 - num2\n",
    "    mul= num1 * num2\n",
    "    try:\n",
    "        flr_div = num1 // num2\n",
    "    except ZeroDivisionError as ze:\n",
    "        print(\"enter num2 greater than zero\")\n",
    "        flr_div = 0\n",
    " \n",
    "    return (add, sub, mul, flr_div)\n",
    " \n",
    "try:\n",
    "    num1 = eval(input(\"Enter the first number : \"))\n",
    "    print(f\"first number : {num1}\")\n",
    "    num2 = eval(input(\"Enter the second number : \"))\n",
    "    print(f\"second number : {num2}\")\n",
    " \n",
    "    result = arithmetic_operations(num1, num2)\n",
    "    print(\"The results of the arithmetic operations are:\", result)\n",
    " \n",
    "except ValueError:\n",
    "    print(\"Error: Please enter valid numbers.\")\n",
    "\n",
    "def fun_div_two():\n",
    "    result = arithmetic_operations(num1 , num2)\n",
    "    print(\"Multilication divide by 2\")\n",
    "    return result[2]/2"
   ]
  },
  {
   "cell_type": "markdown",
   "metadata": {},
   "source": [
    "#### 5 Based on the above function (Question number 4) dived the outcome of multiplication by 2.  "
   ]
  },
  {
   "cell_type": "code",
   "execution_count": null,
   "metadata": {},
   "outputs": [
    {
     "data": {
      "text/plain": [
       "'multiplication divide by 2 = 200.0'"
      ]
     },
     "execution_count": 36,
     "metadata": {},
     "output_type": "execute_result"
    }
   ],
   "source": [
    "def fun_div_two():\n",
    "    result = arithmetic_operations(num1 , num2)\n",
    "    return \"multiplication divide by 2 = {}\".format(result[2]/2)\n",
    "fun_div_two()\n"
   ]
  },
  {
   "cell_type": "markdown",
   "metadata": {},
   "source": [
    "#### 6.\tcreate a function to add only string element in a list. if other than string display the appropriate message. "
   ]
  },
  {
   "cell_type": "code",
   "execution_count": null,
   "metadata": {},
   "outputs": [
    {
     "name": "stdout",
     "output_type": "stream",
     "text": [
      "ommeting non string element 797--non string element\n",
      "ommeting non string element 237--non string element\n",
      "ommeting non string element 9828--non string element\n",
      "Hello Sanket How Are You? \n"
     ]
    }
   ],
   "source": [
    "def string_element_element(lst):\n",
    "\n",
    "    \"\"\"\n",
    "    Concatenates string elements in a list, omitting non-string elements.\n",
    "    Args:\n",
    "        lst (list): The input list containing string and non-string elements.\n",
    "    Returns:\n",
    "        str: A concatenated string of all string elements in the input list.\n",
    "    \"\"\"\n",
    "    ls = \"\"\n",
    "    for i in lst:\n",
    "        try:\n",
    "            if type(i) == str:\n",
    "                ls += i  + \" \"\n",
    "            else:\n",
    "                raise Exception(\"non string element\")\n",
    "        except Exception as e: \n",
    "            print(f\"ommeting non string element {i}--{e}\")\n",
    "    return ls\n",
    "\n",
    "\n",
    "my_list = [\"Hello\",797,\"Sanket\",237,\"How Are You?\",9828]\n",
    "result = string_element_element(my_list)\n",
    "print(result)\n",
    " "
   ]
  },
  {
   "cell_type": "markdown",
   "metadata": {},
   "source": [
    "#### 7.\tCreate a function to read the file and return the dictionary of total lines, total words "
   ]
  },
  {
   "cell_type": "code",
   "execution_count": null,
   "metadata": {},
   "outputs": [
    {
     "name": "stdout",
     "output_type": "stream",
     "text": [
      "File exists\n",
      "Number of lines in the file: 100\n",
      "Number of words in the file: 874\n",
      "Number of characters in the file: 5795\n",
      "{'lines count': 100, 'words count': 874, 'characters count': 5795}\n",
      "------------------------------------------------------------------------------------------\n",
      "File exists\n"
     ]
    },
    {
     "data": {
      "text/plain": [
       "{'lines count': 100, 'words count': 874, 'characters count': 5795}"
      ]
     },
     "execution_count": 36,
     "metadata": {},
     "output_type": "execute_result"
    }
   ],
   "source": [
    "import os\n",
    "import sys\n",
    "# without function\n",
    "\n",
    "file_name = 'mahabharat.txt'\n",
    "# file_name = input(\"Enter the file name:\")\n",
    "\n",
    "if os.path.isfile(file_name):\n",
    "    print(\"File exists\")\n",
    "    file_read = open(file_name, 'r')\n",
    "else:\n",
    "    print(\"File does not exist\")\n",
    "    sys.exit(0)  # to exit the program \n",
    "\n",
    "l_count = word_count = char_count = 0\n",
    "for line in file_read:\n",
    "    l_count += 1\n",
    "    words = line.split()\n",
    "    word_count += len(words)\n",
    "    char_count += len(line)\n",
    "\n",
    "print(\"Number of lines in the file:\", l_count)\n",
    "print(\"Number of words in the file:\", word_count)\n",
    "print(\"Number of characters in the file:\", char_count)\n",
    "file_read.close()\n",
    "\n",
    "dis = {'lines count':l_count,'words count':word_count,'characters count':char_count}\n",
    "print(dis)\n",
    "\n",
    "# With function\n",
    "\n",
    "print(\"--\"*45)\n",
    "def file_read(file_name):\n",
    "    l_count = word_count = char_count = 0\n",
    "    if os.path.isfile(file_name):\n",
    "        print(\"File exists\")\n",
    "        file_read = open(file_name, 'r')\n",
    "    else:\n",
    "        print(\"File does not exist\")\n",
    "        sys.exit(0)  # to exit the program \n",
    "\n",
    "    for line in file_read:\n",
    "        l_count += 1\n",
    "        words = line.split()\n",
    "        word_count += len(words)\n",
    "        char_count += len(line)\n",
    "    file_read.close() \n",
    "    dis = {'lines count':l_count,'words count':word_count,\n",
    "            'characters count':char_count}\n",
    "\n",
    "    return dis\n",
    "\n",
    "file_read('mahabharat.txt')\n",
    "\n"
   ]
  },
  {
   "cell_type": "markdown",
   "metadata": {},
   "source": [
    "#### 8.Create a function which will accept the dictionary and display key values in separate line. \n",
    "\n"
   ]
  },
  {
   "cell_type": "code",
   "execution_count": null,
   "metadata": {},
   "outputs": [
    {
     "name": "stdout",
     "output_type": "stream",
     "text": [
      "Key: name, Value: sanket\n",
      "Key: surname, Value: wade\n"
     ]
    }
   ],
   "source": [
    "def key_value():\n",
    "    \"\"\"\n",
    "    Creates a dictionary from user input and displays its key-value pairs.\n",
    "    \"\"\"\n",
    "    num_pairs = int(input(\"How many key-value pairs do you want to enter? \"))   \n",
    "    keys = [input(\"Enter key {}: \".format(i+1)) for i in range(num_pairs)]\n",
    "    values = [input(\"Enter value for {}: \".format(key)) for key in keys]\n",
    "    input_dict = dict(zip(keys, values))\n",
    "    for key, value in input_dict.items():\n",
    "        print(f\"Key: {key}, Value: {value}\")  \n",
    "\n",
    "key_value()\n",
    " \n",
    "\n",
    "    \n"
   ]
  },
  {
   "cell_type": "markdown",
   "metadata": {},
   "source": [
    "#### 9.\tCreate a lambda function which will accept the dictionary and display key values in separate line. "
   ]
  },
  {
   "cell_type": "code",
   "execution_count": null,
   "metadata": {},
   "outputs": [
    {
     "name": "stdout",
     "output_type": "stream",
     "text": [
      "Key: name,Value: sanket\n",
      "Key: age,Value: 30\n",
      "Key: city,Value: Akola\n"
     ]
    }
   ],
   "source": [
    "display_dict = lambda input_dict: print(\"\\n\".join(f\"Key: {key},Value: {value}\" for key, value in input_dict.items()))\n",
    "my_dict = {\"name\": \"sanket\", \"age\": 30, \"city\": \"Akola\"}\n",
    "display_dict(my_dict)"
   ]
  },
  {
   "cell_type": "markdown",
   "metadata": {},
   "source": [
    "#### 10.Create a function to validate the password: password should contains at least one small letter, one capital letter, one number, and one special character except comma, quotes "
   ]
  },
  {
   "cell_type": "code",
   "execution_count": null,
   "metadata": {},
   "outputs": [
    {
     "name": "stdout",
     "output_type": "stream",
     "text": [
      "Invalid password: Password should contain at least one uppercase letter.\n"
     ]
    }
   ],
   "source": [
    "def password_validation():\n",
    "    try:\n",
    "        password = input(\"Enter your password: \")\n",
    "        if len(password) < 6:\n",
    "            raise ValueError(\"Password should be at least 8 characters long.\")\n",
    "        if not any(char.isupper() for char in password):\n",
    "            raise ValueError(\"Password should contain at least one uppercase letter.\")\n",
    "        if not any(char.islower() for char in password):\n",
    "            raise ValueError(\"Password should contain at least one lowercase letter.\")\n",
    "        if not any(char.isdigit() for char in password):\n",
    "            raise TypeError(\"Password should contain at least one digit.\")\n",
    "        if not any(char in \"!@#$%^&*()_+\" for char in password):\n",
    "            raise ValueError(\"Password should contain at least one special character.\")\n",
    "    except (ValueError,TypeError) as e:\n",
    "        print(\"Invalid password:\", e)\n",
    "    else:\n",
    "        print(\"Password is valid.\")\n",
    "password_validation()"
   ]
  },
  {
   "cell_type": "code",
   "execution_count": null,
   "metadata": {},
   "outputs": [
    {
     "name": "stdout",
     "output_type": "stream",
     "text": [
      "Password is valid.\n"
     ]
    }
   ],
   "source": [
    "\n",
    "def password_validation():\n",
    "    try:\n",
    "        password = input(\"Enter your password: \")\n",
    "        if len(password) < 6 :\n",
    "            raise ValueError(\"Password should be at least 8 characters long.\")\n",
    "        if not any(char.isupper() for char in password):\n",
    "            raise ValueError(\"Password should contain at least one uppercase letter.\")\n",
    "        if not any(char.islower() for char in password):\n",
    "            raise ValueError(\"Password should contain at least one lowercase letter.\")\n",
    "        if not any(char.isdigit() for char in password):\n",
    "            raise TypeError(\"Password should contain at least one digit.\")\n",
    "        if not any(char in \"!@#$%^&*()_+\" for char in password):\n",
    "            raise ValueError(\"Password should contain at least one special character.\")\n",
    "    except (ValueError,TypeError,) as e:\n",
    "        print(\"Invalid password:\", e)\n",
    "    else:\n",
    "        print(\"Password is valid.\")\n",
    "password_validation()"
   ]
  },
  {
   "cell_type": "markdown",
   "metadata": {},
   "source": [
    "#### 11.\tGenerate a decorator having logic to accept natural numbers . which can be used in a function of factorial "
   ]
  },
  {
   "cell_type": "code",
   "execution_count": null,
   "metadata": {},
   "outputs": [
    {
     "name": "stdout",
     "output_type": "stream",
     "text": [
      "2432902008176640000\n",
      "1\n"
     ]
    }
   ],
   "source": [
    "def natural_number_decorator(func):\n",
    "    def wrapper(n):\n",
    "        if not isinstance(n, int) or n < 0:\n",
    "            raise ValueError(\"Enter the non-negative integer.\")\n",
    "        return func(n)\n",
    "    return wrapper\n",
    "\n",
    "@natural_number_decorator\n",
    "def factorial(n):\n",
    "    if n == 0:\n",
    "        return 1\n",
    "    else:\n",
    "        return n * factorial(n-1)\n",
    "print(factorial(20)) \n",
    "print(factorial(0))\n"
   ]
  },
  {
   "cell_type": "markdown",
   "metadata": {},
   "source": [
    "#### 12.\tGenerate the decorator for a Garden visit to check if current time is between 7am to 7pm.  If true the only call the function else generate the error.  \n",
    "##### a.\tFunction payment_check() is active only within given time span and it will check for all user transaction in that given month. \n",
    "##### b.\tFunction entry() will be perform entry transaction of the user \n",
    "##### c.\tFunction exit() will update the outtime of the user if entry exists   \n"
   ]
  },
  {
   "cell_type": "code",
   "execution_count": 9,
   "metadata": {},
   "outputs": [
    {
     "name": "stdout",
     "output_type": "stream",
     "text": [
      "Garden is closed vist between 7 AM to 7 PM.\n",
      "Garden is closed vist between 7 AM to 7 PM.\n",
      "Garden is closed vist between 7 AM to 7 PM.\n"
     ]
    }
   ],
   "source": [
    "from datetime import datetime\n",
    "\n",
    "def garden_visit_decorator(func):\n",
    "    def wrapper():\n",
    "        if 7 <= datetime.now().hour <= 19:\n",
    "            return func()\n",
    "        else:\n",
    "            print(\"Garden is closed vist between 7 AM to 7 PM.\")\n",
    "    return wrapper\n",
    "\n",
    "@garden_visit_decorator\n",
    "def visit_garden():\n",
    "    print(\"Welcome to the garden!\")\n",
    "@garden_visit_decorator\n",
    "def paymet_check():\n",
    "    print(\"User Transaction\")\n",
    "\n",
    "@garden_visit_decorator\n",
    "def entry():\n",
    "    print(\"Labour enter the gardon\")\n",
    "\n",
    "@garden_visit_decorator\n",
    "def exit():\n",
    "    print(\"User exited the gaeden\")\n",
    "try:\n",
    "    paymet_check()\n",
    "    entry()\n",
    "    exit()\n",
    "except ValueError as e:\n",
    "    print(e)\n",
    "\n"
   ]
  },
  {
   "cell_type": "markdown",
   "metadata": {},
   "source": [
    "#### 13.\tCreate lambda function for sorting of the string "
   ]
  },
  {
   "cell_type": "code",
   "execution_count": 48,
   "metadata": {},
   "outputs": [
    {
     "name": "stdout",
     "output_type": "stream",
     "text": [
      "aeknst\n"
     ]
    },
    {
     "data": {
      "text/plain": [
       "'aadeeknstw'"
      ]
     },
     "execution_count": 48,
     "metadata": {},
     "output_type": "execute_result"
    }
   ],
   "source": [
    "string_sort = lambda x: \"\".join(sorted(x))  \n",
    "print(string_sort(\"sanket\"))\n",
    "string_sort(input(\"Enter the string:\").strip()) \n"
   ]
  },
  {
   "cell_type": "markdown",
   "metadata": {},
   "source": [
    "##### 14.\tCreate a generator which will generate runtime unique value as  ABC0001, ABC0002, ABC0003…  \n",
    " \n"
   ]
  },
  {
   "cell_type": "code",
   "execution_count": null,
   "metadata": {},
   "outputs": [
    {
     "name": "stdout",
     "output_type": "stream",
     "text": [
      "ABC0001,ABC0002,ABC0003,ABC0004,ABC0005,ABC0006,ABC0007,ABC0008,ABC0009,ABC0010,ABC0011,ABC0012,ABC0013,ABC0014,ABC0015,ABC0016,ABC0017,ABC0018,ABC0019,ABC0020,"
     ]
    }
   ],
   "source": [
    "def unique_value_lst(series = \"ABC\"):\n",
    "    num = 1\n",
    "    while True:\n",
    "        yield f\"{series}{num:04d}\"\n",
    "        num += 1\n",
    "\n",
    "genrator = unique_value_lst()\n",
    "for i in range(20):\n",
    "    print(next(genrator),end = \",\")"
   ]
  },
  {
   "cell_type": "markdown",
   "metadata": {},
   "source": [
    "##### 15.\tCreate a decorator to check if all input values are alpha numeric and based on it check PAN detail  AAAAA1111X , rec.no   first 3 chr next 5 number  "
   ]
  },
  {
   "cell_type": "code",
   "execution_count": 79,
   "metadata": {},
   "outputs": [
    {
     "name": "stdout",
     "output_type": "stream",
     "text": [
      "KeyError: 'Invalid rec.no format'\n",
      "KeyError: 'Invalid rec.no format'\n",
      "ValueError: Invalid PAN detail format\n",
      "TypeError: Enter the alphanumeric value\n"
     ]
    }
   ],
   "source": [
    "def validate_input(func):\n",
    "    def wrapper(pan_info,rec_no):\n",
    "        try:\n",
    "            if not pan_info.isalnum() or not rec_no.isalnum():\n",
    "                raise TypeError(\"Enter the alphanumeric value\")\n",
    "            if len(pan_info) != 10 or len(rec_no) != 8:\n",
    "                raise IndexError(\"invalid lenth of input\")\n",
    "            if not pan_info[:5].isalpha() or not pan_info[5:9].isalnum() or not pan_info[9].isalpha():\n",
    "                raise ValueError(\"Invalid PAN detail format\")\n",
    "            if not pan_info[:3].isalpha() or not pan_info[3:].isdigit():\n",
    "                raise KeyError(\"Invalid rec.no format\") \n",
    "            return func(pan_info,rec_no)\n",
    "        except TypeError as e:\n",
    "            print(f\"TypeError: {e}\")\n",
    "        except IndexError as e:\n",
    "            print(f\"IndexError: {e}\")\n",
    "        except ValueError as e:\n",
    "            print(f\"ValueError: {e}\")\n",
    "        except KeyError as e:\n",
    "            print(f\"KeyError: {e}\") \n",
    "    return wrapper \n",
    "\n",
    "@validate_input\n",
    "def process_data(pan_info,rec_no):\n",
    "    print(\"Data processed successfully\")    \n",
    "\n",
    "process_data(\"AAAAA1111X\", \"AAA11111\")\n",
    "process_data(\"ABCDE1111Z\", \"ABC11111\")\n",
    "process_data(\"ABCE11111Z\", \"AAA11111\")\n",
    "process_data(\"AAAA11111X\", \" AAA1111\")\n"
   ]
  },
  {
   "cell_type": "code",
   "execution_count": 78,
   "metadata": {},
   "outputs": [
    {
     "name": "stdout",
     "output_type": "stream",
     "text": [
      "Data processed successfully\n",
      "Validation complete\n",
      "ValueError: Invalid PAN detail format\n",
      "Validation complete\n",
      "ValueError: Invalid PAN detail format\n",
      "Validation complete\n"
     ]
    }
   ],
   "source": [
    "import re\n",
    "\n",
    "def pan_validate(func):\n",
    "    def wrapper(pan_info, rec_no):\n",
    "        try:\n",
    "            pan_det = r\"^[A-Z]{5}\\d{4}[A-Z]$\"\n",
    "            rec_pattern = r\"^[A-Z]{3}\\d{5}$\"\n",
    "            \n",
    "            if not re.match(pan_det, pan_info):\n",
    "                raise ValueError(\"Invalid PAN detail format\")\n",
    "            \n",
    "            if not re.match(rec_pattern, rec_no):\n",
    "                raise ValueError(\"Invalid rec.no format\")\n",
    "            \n",
    "            return func(pan_info, rec_no)\n",
    "        except ValueError as e:\n",
    "            print(f\"ValueError: {e}\")\n",
    "        finally:\n",
    "            print(\"Validation complete\")\n",
    "    return wrapper\n",
    "\n",
    "@pan_validate\n",
    "def process_data(pan_info, rec_no):\n",
    "    print(\"Data processed successfully\")\n",
    "\n",
    "process_data(\"ABCDE1111Z\", \"ABC11111\")\n",
    "process_data(\"ABCE11111Z\", \"AAA11111\")\n",
    "process_data(\"AAAA11111X\", \" AAA1111\")"
   ]
  },
  {
   "cell_type": "markdown",
   "metadata": {},
   "source": [
    "##### 16.\tAccept 2 values from user and perform all arithmetic operations and return all "
   ]
  },
  {
   "cell_type": "code",
   "execution_count": null,
   "metadata": {},
   "outputs": [
    {
     "name": "stdout",
     "output_type": "stream",
     "text": [
      "KeyError: 'Invalid rec.no format'\n",
      "KeyError: 'Invalid rec.no format'\n",
      "ValueError: Invalid PAN detail format\n",
      "TypeError: Enter the alphanumeric value\n"
     ]
    }
   ],
   "source": [
    "def validate_input(func):\n",
    "    def wrapper(pan_info,rec_no):\n",
    "        try:\n",
    "            if not pan_info.isalnum() or not rec_no.isalnum():\n",
    "                raise TypeError(\"Enter the alphanumeric value\")\n",
    "            if len(pan_info) != 10 or len(rec_no) != 8:\n",
    "                raise IndexError(\"invalid lenth of input\")\n",
    "            if not pan_info[:5].isalpha() or not pan_info[5:9].isalnum() or not pan_info[9].isalpha():\n",
    "                raise ValueError(\"Invalid PAN detail format\")\n",
    "            if not pan_info[:3].isalpha() or not pan_info[3:].isdigit():\n",
    "                raise KeyError(\"Invalid rec.no format\") \n",
    "            return func(pan_info,rec_no)\n",
    "        except TypeError as e:\n",
    "            print(f\"TypeError: {e}\")\n",
    "        except IndexError as e:\n",
    "            print(f\"IndexError: {e}\")\n",
    "        except ValueError as e:\n",
    "            print(f\"ValueError: {e}\")\n",
    "        except KeyError as e:\n",
    "            print(f\"KeyError: {e}\") \n",
    "    return wrapper \n",
    "\n",
    "@validate_input\n",
    "def process_data(pan_info,rec_no):\n",
    "    print(\"Data processed successfully\")    \n",
    "\n",
    "process_data(\"AAAAA1111X\", \"AAA11111\")\n",
    "process_data(\"ABCDE1111Z\", \"ABC11111\")\n",
    "process_data(\"ABCE11111Z\", \"AAA11111\")\n",
    "process_data(\"AAAA11111X\", \" AAA1111\")\n"
   ]
  },
  {
   "cell_type": "code",
   "execution_count": 13,
   "metadata": {},
   "outputs": [
    {
     "name": "stdout",
     "output_type": "stream",
     "text": [
      "The results of the arithmetic operations are \n",
      "addition = 30,\n",
      "subtraction = 10, \n",
      "multiplication = 200, \n",
      "division = 2\n"
     ]
    }
   ],
   "source": [
    "num_1 = eval(input(\"Enter the first number : \"))\n",
    "num_2 = eval(input(\"Enter the second number : \"))\n",
    "\n",
    "def arithmetic_operations(num1, num2):\n",
    "    add= num1 + num2\n",
    "    sub = num1 - num2\n",
    "    mul= num1 * num2\n",
    "    try:\n",
    "        flr_div = num1 // num2\n",
    "    except ZeroDivisionError as ze:\n",
    "        print(\"enter num2 greater than zero\")\n",
    "        flr_div = 0\n",
    "    return (add, sub, mul, flr_div)\n",
    "\n",
    "result = arithmetic_operations(num_1, num_2)\n",
    "print(\"The results of the arithmetic operations are \\naddition = {},\\nsubtraction = {}, \\nmultiplication = {}, \\ndivision = {}\"\n",
    "      .format(result[0], result[1], result[2], result[3]))\n"
   ]
  },
  {
   "cell_type": "markdown",
   "metadata": {},
   "source": [
    "#### 17.\tAsk user to enter any 3 input e.g name, marks , mobile_num \n",
    "#### if name is with other special characters then it should not not ask for next makrs input \n",
    "####    note:  \n",
    "#### o\tCreate separate functions for validation of every variable  \n",
    "#### o\tEvery single block should have proper exception \n",
    "#### o\tEvery function must have the docstring \n",
    "#### o\tOnce the validation is done dictionary has to be created and store the dictionary to one txt file \n"
   ]
  },
  {
   "cell_type": "code",
   "execution_count": 1,
   "metadata": {},
   "outputs": [
    {
     "name": "stdout",
     "output_type": "stream",
     "text": [
      "{'name': 'sanket', 'marks': '85', 'mobile_num': '3698521470'}\n"
     ]
    }
   ],
   "source": [
    "import re\n",
    "def validate_name(name):\n",
    "    name_pattern = r\"^[a-zA-Z\\s]+$\"\n",
    "    if not re.match(name_pattern, name):\n",
    "        raise ValueError(\"Please enter a valid name.\")\n",
    "    return name\n",
    "\n",
    "def validate_marks(marks):\n",
    "    marks_pattern = r\"^[0-9]+$\"\n",
    "    if not re.match(marks_pattern, marks):\n",
    "        raise ValueError(\"Please enter a valid marks.\")\n",
    "    return marks\n",
    "\n",
    "def validate_mobile_num(mobile_num):\n",
    "    mobile_num_pattern = r\"^\\d{10}$\"        \n",
    "    if not re.match(mobile_num_pattern, mobile_num):\n",
    "        raise ValueError(\"Please enter a valid mobile number.\")\n",
    "    return mobile_num  \n",
    "\n",
    "def create_dict(name, marks, mobile_num):\n",
    "    try:\n",
    "        name = validate_name(name)\n",
    "        marks = validate_marks(marks)\n",
    "        mobile_num = validate_mobile_num(mobile_num)\n",
    "    except ValueError as e:\n",
    "        print(f\"Error: {e}\")\n",
    "        return None\n",
    "    return {\"name\": name, \"marks\": marks, \"mobile_num\": mobile_num}\n",
    "\n",
    "name = input(\"Enter your name: \")\n",
    "marks = input(\"Enter your marks: \")\n",
    "mobile_num = input(\"Enter your mobile number: \")\n",
    "result = create_dict(name,marks, mobile_num)\n",
    "print (result)\n"
   ]
  },
  {
   "cell_type": "code",
   "execution_count": 2,
   "metadata": {},
   "outputs": [],
   "source": [
    "#  18.\tSegregate file in small , medium and large size in different folder \n",
    "# o\tfilesize less than and equal to 10KB is small file \n",
    "# o\tfilesize more than 10 KB is the medium file \n",
    "# o\tfilesize more than 40 kb is the large file \n",
    "# o\tcreate the log file  \n"
   ]
  },
  {
   "cell_type": "code",
   "execution_count": null,
   "metadata": {},
   "outputs": [],
   "source": [
    "import os\n",
    "import shutil\n",
    "import logging\n",
    "\n",
    "# Set up logging\n",
    "logging.basicConfig(filename='file_segregation.log', level=logging.INFO)\n",
    "\n",
    "# Define file size categories\n",
    "small_size = 10 * 1024  # 10 KB\n",
    "medium_size = 40 * 1024  # 40 KB\n",
    "\n",
    "# Define folder paths\n",
    "small_folder = 'small_files'\n",
    "medium_folder = 'medium_files'\n",
    "large_folder = 'large_files'\n",
    "\n",
    "# Create folders if they don't exist\n",
    "if not os.path.exists(small_folder):\n",
    "    os.makedirs(small_folder)\n",
    "if not os.path.exists(medium_folder):\n",
    "    os.makedirs(medium_folder)\n",
    "if not os.path.exists(large_folder):\n",
    "    os.makedirs(large_folder)\n",
    "\n",
    "# Iterate through files in current directory\n",
    "for filename in os.listdir('.'):\n",
    "    # Get file size\n",
    "    filesize = os.path.getsize(filename)\n",
    "\n",
    "    # Determine file category\n",
    "    if filesize <= small_size:\n",
    "        category = 'small'\n",
    "        folder = small_folder\n",
    "    elif filesize <= medium_size:\n",
    "        category = 'medium'\n",
    "        folder = medium_folder\n",
    "    else:\n",
    "        category = 'large'\n",
    "        folder = large_folder\n",
    "\n",
    "    # Move file to corresponding folder\n",
    "    shutil.move(filename, folder)\n",
    "    logging.info(f'Moved {filename} to {folder} ({category} file)')\n",
    "\n",
    "print('File segregation complete!')"
   ]
  },
  {
   "cell_type": "code",
   "execution_count": 3,
   "metadata": {},
   "outputs": [
    {
     "name": "stderr",
     "output_type": "stream",
     "text": [
      "2025-02-15 11:36:34,333 - INFO - Source folder: C:\\Users\\sanke\\Desktop\\book_data, Small size limit: 10240, Middle size limit: 40960\n",
      "2025-02-15 11:36:34,335 - INFO - Processing file: Book-1.pdf, Size: 11023012\n",
      "2025-02-15 11:36:34,336 - INFO - Moving file to large size folder: Book-1.pdf\n",
      "2025-02-15 11:36:34,337 - INFO - Processing file: Book-3Spark - The Definitive Guide - Big data processing made simple.pdf, Size: 8866607\n",
      "2025-02-15 11:36:34,338 - INFO - Moving file to large size folder: Book-3Spark - The Definitive Guide - Big data processing made simple.pdf\n",
      "2025-02-15 11:36:34,340 - INFO - Processing file: mahabharat.txt, Size: 5894\n",
      "2025-02-15 11:36:34,341 - INFO - Moving file to small size folder: mahabharat.txt\n",
      "2025-02-15 11:36:34,342 - INFO - Processing file: Python Machine Learning Case Studies_ Five Case Studies for the Data Scientist ( PDFDrive ).pdf, Size: 8336682\n",
      "2025-02-15 11:36:34,343 - INFO - Moving file to large size folder: Python Machine Learning Case Studies_ Five Case Studies for the Data Scientist ( PDFDrive ).pdf\n",
      "2025-02-15 11:36:34,344 - INFO - File categorization complete\n"
     ]
    }
   ],
   "source": [
    "import os\n",
    "import shutil\n",
    "import sys\n",
    "import logging\n",
    "\n",
    "# Set up logging\n",
    "logging.basicConfig(level=logging.INFO, format='%(asctime)s - %(levelname)s - %(message)s')\n",
    "\n",
    "def file_size(source_folder, small_size, middle_size):\n",
    "    logging.info(f\"Source folder: {source_folder}, Small size limit: {small_size}, Middle size limit: {middle_size}\")\n",
    "\n",
    "    small_size_folder = os.path.join(source_folder, 'small_size')\n",
    "    middle_size_folder = os.path.join(source_folder, 'middle_size')\n",
    "    large_size_folder = os.path.join(source_folder, 'large_size')\n",
    "\n",
    "    os.makedirs(small_size_folder, exist_ok=True)\n",
    "    os.makedirs(middle_size_folder, exist_ok=True)\n",
    "    os.makedirs(large_size_folder, exist_ok=True)\n",
    "\n",
    "    # Combine files together\n",
    "    for file_name in os.listdir(source_folder):\n",
    "        file_path = os.path.join(source_folder, file_name)\n",
    "\n",
    "        # Skip directories\n",
    "        if os.path.isdir(file_path):\n",
    "            continue\n",
    "\n",
    "        file_size = os.path.getsize(file_path)  # File size\n",
    "\n",
    "        logging.info(f\"Processing file: {file_name}, Size: {file_size}\")\n",
    "\n",
    "        # Categorize and move files based on size\n",
    "        if file_size <= small_size:\n",
    "            logging.info(f\"Moving file to small size folder: {file_name}\")\n",
    "            shutil.move(file_path, os.path.join(small_size_folder, file_name))\n",
    "        elif file_size <= middle_size:\n",
    "            logging.info(f\"Moving file to middle size folder: {file_name}\")\n",
    "            shutil.move(file_path, os.path.join(middle_size_folder, file_name))\n",
    "        else:\n",
    "            logging.info(f\"Moving file to large size folder: {file_name}\")\n",
    "            shutil.move(file_path, os.path.join(large_size_folder, file_name))\n",
    "\n",
    "    logging.info(\"File categorization complete\")\n",
    "\n",
    "# Example usage\n",
    "source_directory = 'C:\\\\Users\\\\sanke\\\\Desktop\\\\book_data'  # local path\n",
    "small_file_limit = 10 * 1024  # 10 KB\n",
    "middle_file_limit = 40 * 1024  # 40 KB\n",
    "file_size(source_directory, small_file_limit, middle_file_limit)"
   ]
  },
  {
   "cell_type": "code",
   "execution_count": null,
   "metadata": {},
   "outputs": [],
   "source": [
    "# 19.\tIn the hotel user is entering the details of menu, quantity and printing the bill. number of menu may varies with customer's order  \n",
    "# generate a file having grocery bill as per the below format \n",
    "\n",
    "# Note: User may enter n entities and total will be calculated adding the GST of 10% separately \n",
    "# **apply exception wherever it is required.  \n",
    "# **create the log file and check if code is arranged in a proper format using flake8, pylint, etc. \n"
   ]
  },
  {
   "cell_type": "code",
   "execution_count": null,
   "metadata": {},
   "outputs": [
    {
     "name": "stdout",
     "output_type": "stream",
     "text": [
      "\n",
      "You have ordered:\n",
      "i\n",
      "------------------------------------------------------------\n",
      "|\t\t Welcome to Sanket & Friends\t\t   |\n",
      "| Date: 15-02-2025 \t\t\t Recpt No: 1 \t   |\n",
      "------------------------------------------------------------\n",
      "| SR.\t Menu \t\t qnt \t\t Price             |\n",
      "------------------------------------------------------------\n",
      "| 1  \t i          \t 1        \t 1000.0     \t   |\n",
      "------------------------------------------------------------\n",
      "| Total Amount: \t\t\t  1000.00          |\n",
      "| GST (10%): \t\t\t\t   100.00          |\n",
      "------------------------------------------------------------\n",
      "| Grand Total: \t\t\t\t  1100.00          |\n",
      "------------------------------------------------------------\n"
     ]
    }
   ],
   "source": [
    "from random import randint\n",
    "from datetime import date\n",
    "\n",
    "# today's date\n",
    "today = date.today()\n",
    "current_date = today.strftime(\"%d-%m-%Y\")\n",
    "\n",
    "# Generate a random receipt number\n",
    "recpt_no = randint(0, 1000)\n",
    "\n",
    "# Input menu items\n",
    "menu_list = []\n",
    "while True:\n",
    "    menu_input = input(\"Enter Menu Item (or enter 'ok' to Submit): \")\n",
    "    if menu_input.lower() == \"ok\":\n",
    "        break\n",
    "    menu_list.append(menu_input)\n",
    "\n",
    "# Display ordered items\n",
    "print(\"\\nYou have ordered:\")\n",
    "for dish in menu_list:\n",
    "    print(dish)\n",
    "\n",
    "# Get quantity for each menu item\n",
    "quantity_list = [int(input(f\"Enter quantity for {menu}: \")) for menu in menu_list]\n",
    "\n",
    "# Get price for each menu item\n",
    "price_list = [float(input(f\"Enter price for {menu}: \")) for menu in menu_list]\n",
    "\n",
    "# Generate a bill number\n",
    "def bill_number_generator():\n",
    "    bill_no = 1\n",
    "    while True:\n",
    "        yield bill_no\n",
    "        bill_no += 1\n",
    "\n",
    "bill_gen = bill_number_generator()\n",
    "\n",
    "def get_bill_number():\n",
    "    return next(bill_gen)\n",
    "\n",
    "bill_no = get_bill_number()\n",
    "\n",
    "# Calculate totals\n",
    "total = sum(price * quantity for price, quantity in zip(price_list, quantity_list))\n",
    "gst = total * 0.1  # 10% GST\n",
    "grand_total = total + gst\n",
    "\n",
    "# Print Bill\n",
    "print(\"--\" * 30)\n",
    "print(\"|\\t\\t Welcome to Sanket & Friends\\t\\t   |\")\n",
    "print(\"| Date: {} \\t\\t\\t Recpt No: {} \\t   |\".format(current_date, recpt_no))\n",
    "print(\"--\" * 30)\n",
    "print(\"| SR.\\t Menu \\t\\t qnt \\t\\t Price             |\")\n",
    "print(\"--\" * 30)\n",
    "\n",
    "for i, (menu, quantity, price) in enumerate(zip(menu_list, quantity_list, price_list)):\n",
    "    print(\"| {:<2} \\t {:<10} \\t {:<8} \\t {:<10} \\t   |\".format(i+1, menu, quantity, price))\n",
    "\n",
    "print(\"--\" * 30)\n",
    "print(\"| Total Amount: \\t\\t\\t  {:.2f}       \".format(total) + \"   |\")\n",
    "print(\"| GST (10%): \\t\\t\\t\\t   {:.2f}        \".format(gst) + \"  |\")\n",
    "print(\"--\" * 30)\n",
    "print(\"| Grand Total: \\t\\t\\t\\t  {:.2f}       \".format(grand_total)+\"   |\")\n",
    "print('--'*30)\n",
    "\n"
   ]
  },
  {
   "cell_type": "code",
   "execution_count": 67,
   "metadata": {},
   "outputs": [
    {
     "name": "stdout",
     "output_type": "stream",
     "text": [
      "\n",
      "You have ordered:\n",
      "Sa\n",
      "------------------------------------------------------------\n",
      "|\t\t Welcome to Sanket & Friends\t\t   |\n",
      "| Date: 15-02-2025 \t\t\t Recpt No: 58 \t   |\n",
      "------------------------------------------------------------\n",
      "| SR.\t Menu \t\t qnt \t\t Price             |\n",
      "------------------------------------------------------------\n",
      "| 1  \t Sa         \t 1        \t 1000.0     \t   |\n",
      "------------------------------------------------------------\n",
      "| Total Amount: \t\t\t  1000.00          |\n",
      "| GST (10%): \t\t\t\t   100.00          |\n",
      "------------------------------------------------------------\n",
      "| Grand Total: \t\t\t\t  1100.00          |\n",
      "------------------------------------------------------------\n"
     ]
    }
   ],
   "source": [
    "from random import randint\n",
    "from datetime import date\n",
    "import logging\n",
    "\n",
    "# Set up logging\n",
    "logging.basicConfig(filename='bill_generator.log', level=logging.INFO)\n",
    "\n",
    "# today's date\n",
    "try:\n",
    "    today = date.today()\n",
    "    current_date = today.strftime(\"%d-%m-%Y\")\n",
    "except Exception as e:\n",
    "    logging.error(\"Error getting current date: {}\".format(e))\n",
    "    exit(1)\n",
    "\n",
    "# Generate a random receipt number\n",
    "try:\n",
    "    recpt_no = randint(0, 1000)\n",
    "except Exception as e:\n",
    "    logging.error(\"Error generating receipt number: {}\".format(e))\n",
    "    exit(1)\n",
    "\n",
    "# Input menu items\n",
    "menu_list = []\n",
    "while True:\n",
    "    try:\n",
    "        menu_input = input(\"Enter Menu Item (or enter 'ok' to Submit): \")\n",
    "        if menu_input.lower() == \"ok\":\n",
    "            break\n",
    "        menu_list.append(menu_input)\n",
    "    except Exception as e:\n",
    "        logging.error(\"Error getting menu input: {}\".format(e))\n",
    "        exit(1)\n",
    "\n",
    "# Display ordered items\n",
    "try:\n",
    "    print(\"\\nYou have ordered:\")\n",
    "    for dish in menu_list:\n",
    "        print(dish)\n",
    "except Exception as e:\n",
    "    logging.error(\"Error displaying ordered items: {}\".format(e))\n",
    "    exit(1)\n",
    "\n",
    "# Get quantity for each menu item\n",
    "try:\n",
    "    quantity_list = [int(input(f\"Enter quantity for {menu}: \")) for menu in menu_list]\n",
    "except Exception as e:\n",
    "    logging.error(\"Error getting quantity input: {}\".format(e))\n",
    "    exit(1)\n",
    "\n",
    "# Get price for each menu item\n",
    "try:\n",
    "    price_list = [float(input(f\"Enter price for {menu}: \")) for menu in menu_list]\n",
    "except Exception as e:\n",
    "    logging.error(\"Error getting price input: {}\".format(e))\n",
    "    exit(1)\n",
    "\n",
    "# Generate a bill number\n",
    "def bill_number_generator():\n",
    "    bill_no = 1\n",
    "    while True:\n",
    "        yield bill_no\n",
    "        bill_no += 1\n",
    "\n",
    "try:\n",
    "    bill_gen = bill_number_generator()\n",
    "    bill_no = next(bill_gen)\n",
    "except Exception as e:\n",
    "    logging.error(\"Error generating bill number: {}\".format(e))\n",
    "    exit(1)\n",
    "\n",
    "# Calculate totals\n",
    "try:\n",
    "    total = sum(price * quantity for price, quantity in zip(price_list, quantity_list))\n",
    "    gst = total * 0.1  # 10% GST\n",
    "    grand_total = total + gst\n",
    "except Exception as e:\n",
    "    logging.error(\"Error calculating totals: {}\".format(e))\n",
    "    exit(1)\n",
    "\n",
    "# Print Bill\n",
    "try:\n",
    "    print(\"--\" * 30)\n",
    "    print(\"|\\t\\t Welcome to Sanket & Friends\\t\\t   |\")\n",
    "    print(\"| Date: {} \\t\\t\\t Recpt No: {} \\t   |\".format(current_date, recpt_no))\n",
    "    print(\"--\" * 30)\n",
    "    print(\"| SR.\\t Menu \\t\\t qnt \\t\\t Price             |\")\n",
    "    print(\"--\" * 30)\n",
    "\n",
    "    for i, (menu, quantity, price) in enumerate(zip(menu_list, quantity_list, price_list)):\n",
    "        print(\"| {:<2} \\t {:<10} \\t {:<8} \\t {:<10} \\t   |\".format(i+1, menu, quantity, price))\n",
    "\n",
    "    print(\"--\" * 30)\n",
    "    print(\"| Total Amount: \\t\\t\\t  {:.2f}       \".format(total) + \"   |\")\n",
    "    print(\"| GST (10%): \\t\\t\\t\\t   {:.2f}        \".format(gst) + \"  |\")\n",
    "    print(\"--\" * 30)\n",
    "    print(\"| Grand Total: \\t\\t\\t\\t  {:.2f}       \".format(grand_total)+\"   |\")\n",
    "    print('--'*30)\n",
    "except Exception as e:\n",
    "    logging.error(\"Error printing bill: {}\".format(e))\n",
    "    exit(1)\n"
   ]
  },
  {
   "cell_type": "markdown",
   "metadata": {},
   "source": [
    "#### 20.\tAsk user to enter the valid file path and check which word is having more repetition in the file \n",
    "\n"
   ]
  },
  {
   "cell_type": "code",
   "execution_count": 69,
   "metadata": {},
   "outputs": [
    {
     "name": "stdout",
     "output_type": "stream",
     "text": [
      "The word 'the' is repeated the most (55 times) in the file.\n"
     ]
    }
   ],
   "source": [
    "import os\n",
    "from collections import Counter\n",
    "import re\n",
    "\n",
    "def get_valid_file_path():\n",
    "    while True:\n",
    "        file_path = input(\"Enter a valid file path: \")\n",
    "        if os.path.isfile(file_path):\n",
    "            return file_path\n",
    "        else:\n",
    "            print(\"Incorrect file path. Please try again.\")\n",
    "\n",
    "def count_word_repetitions(file_path):\n",
    "    with open(file_path, \"r\") as f:\n",
    "        text = f.read().lower()\n",
    "        words = re.findall(r'\\b\\w+\\b', text)\n",
    "        word_count = Counter(words)\n",
    "        return word_count\n",
    "\n",
    "def find_most_repetitive_word(word_count):\n",
    "    most_repetitive_word = word_count.most_common(1)[0]\n",
    "    return most_repetitive_word\n",
    "\n",
    "file_path = get_valid_file_path()\n",
    "word_count = count_word_repetitions(file_path)\n",
    "most_repetitive_word = find_most_repetitive_word(word_count)\n",
    "print(f\"The word '{most_repetitive_word[0]}' is repeated the most ({most_repetitive_word[1]} times) in the file.\")\n",
    "\n"
   ]
  },
  {
   "cell_type": "markdown",
   "metadata": {},
   "source": [
    "#### 21.\tCreate a function which will accept the word and the file path and returns the dictionary as {word: occurances} "
   ]
  },
  {
   "cell_type": "code",
   "execution_count": 75,
   "metadata": {},
   "outputs": [
    {
     "name": "stdout",
     "output_type": "stream",
     "text": [
      "{'pandu': 3, 'karna': 4, 'kunti': 3, 'bhushma': 0, 'arjuna': 13, 'krishna': 9}\n"
     ]
    }
   ],
   "source": [
    "import os\n",
    "from collections import Counter\n",
    "import re\n",
    "\n",
    "def count_word_occurrences(words, file_path):\n",
    "\n",
    "    if not os.path.isfile(file_path):\n",
    "        raise FileNotFoundError(\"File not found\")\n",
    "\n",
    "    words = [word.lower() for word in words]\n",
    "    with open(file_path, \"r\") as f:\n",
    "        text = f.read().lower()\n",
    "        words_in_text = re.findall(r'\\b\\w+\\b', text)\n",
    "        word_count = Counter(words_in_text)\n",
    "        return {word: word_count.get(word, 0) for word in words}\n",
    "\n",
    "words = input(\"Enter multiple words (separated by spaces): \").split()\n",
    "file_path = input(\"Enter a file path: \")\n",
    "try:\n",
    "    occurrences = count_word_occurrences(words, file_path)\n",
    "    print(occurrences)\n",
    "except FileNotFoundError as e:\n",
    "    print(e)"
   ]
  },
  {
   "cell_type": "markdown",
   "metadata": {},
   "source": [
    "#### 22.\tCreate a function which will accept one file and returns all occurrences of the word \n",
    "{‘market’ : 3, ‘is’:5, ‘new’:2} \n"
   ]
  },
  {
   "cell_type": "code",
   "execution_count": null,
   "metadata": {},
   "outputs": [
    {
     "name": "stdout",
     "output_type": "stream",
     "text": [
      "{'the': 3, 'ramayana': 1, 'is': 2, 'an': 2, 'ancient': 1, 'indian': 1, 'epic': 1, 'about': 2, 'prince': 1, 'rama': 4, 'his': 3, 'wife': 1, 'sita': 4, 'and': 4, 'loyal': 1, 'brother': 1, 'lakshmana': 1, 'when': 1, 'abducted': 1, 'by': 2, 'demon': 1, 'king': 1, 'ravana': 2, 'with': 1, 'help': 1, 'of': 2, 'hanuman': 1, 'army': 1, 'monkeys': 1, 'wages': 1, 'war': 1, 'to': 3, 'rescue': 1, 'her': 3, 'after': 1, 'a': 3, 'fierce': 1, 'battle': 1, 'defeats': 1, 'brings': 1, 'back': 1, 'ayodhya': 1, 'however': 1, 'doubts': 1, 'purity': 1, 'lead': 1, 'undergo': 1, 'trial': 1, 'fire': 1, 'proving': 1, 'chastity': 1, 'ultimately': 1, 'fulfills': 1, 'destiny': 1, 'as': 1, 'just': 1, 'ruler': 1, 'symbolizing': 1, 'dharma': 1, 'righteousness': 1, 'devotion': 1}\n"
     ]
    }
   ],
   "source": [
    "import os\n",
    "from collections import Counter\n",
    "import re\n",
    "\n",
    "\n",
    "def count_word_occurrences(file_path):\n",
    "   \n",
    "    if not os.path.isfile(file_path):\n",
    "        raise FileNotFoundError(\"File not found\")\n",
    "\n",
    "    with open(file_path, \"r\") as f:\n",
    "        text = f.read().lower()\n",
    "        words = re.findall(r'\\b\\w+\\b', text)\n",
    "        word_count = Counter(words)\n",
    "        return dict(word_count)\n",
    "\n",
    "file_path = \"test_file.txt\"\n",
    "# file_path = input(\"Enter a file path: \")\n",
    "try:\n",
    "    occurrences = count_word_occurrences(file_path)\n",
    "    print(occurrences)\n",
    "except FileNotFoundError as e:\n",
    "    print(e)\n"
   ]
  },
  {
   "cell_type": "markdown",
   "metadata": {},
   "source": [
    "##### 23\tCreate a function which will accept the dictionary and display key values in separate line. create the class "
   ]
  },
  {
   "cell_type": "code",
   "execution_count": 81,
   "metadata": {},
   "outputs": [
    {
     "name": "stdout",
     "output_type": "stream",
     "text": [
      "sanket: 7972379828\n",
      "akash: 1234567890\n",
      "ram: 9876543210\n",
      "krishna: 1597539512\n"
     ]
    }
   ],
   "source": [
    "class DictionaryPrinter:\n",
    "    def __init__(self, dictionary):\n",
    "        self.dictionary = dictionary\n",
    "\n",
    "    def print_key_values(self):\n",
    "        for key, value in self.dictionary.items():\n",
    "            print(f\"{key}: {value}\")\n",
    "\n",
    "\n",
    "def print_dictionary(dictionary):\n",
    "    printer = DictionaryPrinter(dictionary)\n",
    "    printer.print_key_values()\n",
    "\n",
    "\n",
    "# Example usage:\n",
    "dictionary = {'sanket': 7972379828, 'akash': 1234567890, 'ram': 9876543210, 'krishna': 1597539512}\n",
    "print_dictionary(dictionary)"
   ]
  },
  {
   "cell_type": "markdown",
   "metadata": {},
   "source": [
    "##### 24.\tAsk user to enter the folder path. Folder may contain more than one file and with different extensions. Read only text file and return the more repetitive word "
   ]
  },
  {
   "cell_type": "code",
   "execution_count": 8,
   "metadata": {},
   "outputs": [
    {
     "name": "stdout",
     "output_type": "stream",
     "text": [
      "The most repetitive word is 'and' with 41 occurrences.\n"
     ]
    }
   ],
   "source": [
    "import os\n",
    "from collections import Counter\n",
    "import re\n",
    "\n",
    "class FR:\n",
    "    def __init__(self, fp):\n",
    "        self.fp = fp\n",
    "\n",
    "    def rc(self):\n",
    "        if not os.path.isfile(self.fp):\n",
    "            raise FileNotFoundError(\"File not found\")\n",
    "        if self.fp.endswith(\".txt\"):\n",
    "            with open(self.fp, \"r\") as f:\n",
    "                return f.read()\n",
    "        elif self.fp.endswith((\".doc\", \".docx\")):\n",
    "            with open(self.fp, \"r\") as f:\n",
    "                return f.read()\n",
    "        else:\n",
    "            raise ValueError(\"Unsupported file type\")\n",
    "\n",
    "def gdp():\n",
    "    while True:\n",
    "        dp = input(\"Enter a folder path: \")\n",
    "        if os.path.isdir(dp):\n",
    "            return dp\n",
    "        else:\n",
    "            print(\"Invalid folder path. Please try again.\")\n",
    "\n",
    "def ltf(dp):\n",
    "    tf = []\n",
    "    for fn in os.listdir(dp):\n",
    "        if fn.endswith((\".txt\", \".pdf\", \".doc\", \".docx\")):\n",
    "            tf.append(os.path.join(dp, fn))\n",
    "    return tf\n",
    "\n",
    "def cwf(tc):\n",
    "    wds = re.findall(r'\\b\\w+\\b', tc)\n",
    "    return Counter(wds)\n",
    "\n",
    "def fmw(wf):\n",
    "    return wf.most_common(1)[0]\n",
    "\n",
    "# Main execution\n",
    "dp = gdp()\n",
    "tf = ltf(dp)\n",
    "tc = \"\"\n",
    "\n",
    "for fp in tf:\n",
    "    tr = FR(fp)\n",
    "    tc += tr.rc()\n",
    "\n",
    "wf = cwf(tc)\n",
    "mw = fmw(wf)\n",
    "\n",
    "print(f\"The most repetitive word is '{mw[0]}' with {mw[1]} occurrences.\")\n"
   ]
  },
  {
   "cell_type": "markdown",
   "metadata": {},
   "source": [
    "##### 25.\tCreate a class for file reading "
   ]
  },
  {
   "cell_type": "code",
   "execution_count": 9,
   "metadata": {},
   "outputs": [
    {
     "name": "stdout",
     "output_type": "stream",
     "text": [
      "King Shantanu of Hastinapur falls in love with Ganga.\n",
      "They marry, but she drowns seven sons; the eighth, Bhishma, survives.\n",
      "Bhishma takes a vow of celibacy and renounces the throne.\n",
      "Shantanu marries Satyavati, and they have two sonsâ€”Chitrangada and Vichitravirya.\n",
      "Chitrangada dies young, and Vichitravirya marries Ambika and Ambalika.\n",
      "Vichitravirya dies childless; Satyavati calls her son Vyasa to father heirs.\n",
      "Vyasa grants sons: Dhritarashtra (blind), Pandu (weakly), and Vidura (wise but not royal).\n",
      "Dhritarashtra marries Gandhari; she blindfolds herself.\n",
      "Pandu marries Kunti and Madri, but is cursed to die if he engages in intimacy.\n",
      "Kunti invokes divine blessings to bear Yudhishthira (Dharma), Bhima (Vayu), and Arjuna (Indra).\n",
      "Madri invokes the gods and has Nakula and Sahadeva (Ashvins).\n",
      "Pandu dies, and Kunti raises the Pandavas.\n",
      "Dhritarashtraâ€™s sons, the Kauravas, led by Duryodhana, despise the Pandavas.\n",
      "The Pandavas and Kauravas learn from Dronacharya.\n",
      "Arjuna excels in archery; Karna, an unknown warrior, challenges him.\n",
      "Duryodhana befriends Karna, making him king of Anga.\n",
      "Dronacharya demands Ekalavyaâ€™s thumb as guru-dakshina.\n",
      "The Pandavas and Kauravas display their skills in a grand exhibition.\n",
      "Duryodhana tries to poison Bhima, but he survives.\n",
      "The Pandavas marry Draupadi, who becomes their common wife.\n",
      "Duryodhana, with his uncle Shakuni, plots against the Pandavas.\n",
      "The Pandavas are sent to Varnavat, where they escape a burning house.\n",
      "They return in disguise and marry Draupadi through Arjunaâ€™s skill.\n",
      "They reveal themselves, and Dhritarashtra grants them Indraprastha.\n",
      "Arjuna goes on exile and marries Subhadra, Krishnaâ€™s sister.\n",
      "Maya Danava builds the grand palace of Indraprastha.\n",
      "Duryodhana, envious, is humiliated in the Pandava palace.\n",
      "Shakuni arranges a rigged dice game between Yudhishthira and Duryodhana.\n",
      "Yudhishthira loses everything, including Draupadi.\n",
      "Dushasana drags Draupadi to the court and tries to disrobe her.\n",
      "Krishna protects Draupadi by endless fabric.\n",
      "Dhritarashtra returns the Pandavasâ€™ kingdom, but another game is played.\n",
      "The Pandavas lose again and are exiled for 13 years.\n",
      "They wander forests, meeting sages and acquiring divine weapons.\n",
      "Bhima kills Kirmira and Hidimba, later marrying Hidimbi and having Ghatotkacha.\n",
      "Arjuna performs penance and receives Pashupatastra from Lord Shiva.\n",
      "The Pandavas serve in Virataâ€™s kingdom in disguise during the 13th year.\n",
      "Kichaka, a general, harasses Draupadi; Bhima kills him.\n",
      "The Kauravas attack Virataâ€™s kingdom; Arjuna defeats them.\n",
      "Krishna attempts to negotiate peace, but Duryodhana refuses.\n",
      "The Kurukshetra war begins with both sides preparing.\n",
      "Arjuna sees his kin on the battlefield and hesitates.\n",
      "Krishna delivers the Bhagavad Gita, motivating Arjuna to fight.\n",
      "Bhishma leads the Kaurava army; he is undefeated.\n",
      "Arjuna, with Shikhandiâ€™s help, defeats Bhishma.\n",
      "Bhishma lies on a bed of arrows, waiting for his time to die.\n",
      "Drona takes command, massacring warriors, including Abhimanyu.\n",
      "The Pandavas deceive Drona into believing his son Ashwatthama is dead.\n",
      "Drona lays down his arms and is killed by Dhrishtadyumna.\n",
      "Karna takes charge, fighting fiercely.\n",
      "Karna and Arjuna battle; Krishna saves Arjuna multiple times.\n",
      "Karnaâ€™s chariot wheel gets stuck; Arjuna kills him.\n",
      "Bhima kills Dushasana and drinks his blood in revenge.\n",
      "Duryodhana flees and hides in a lake.\n",
      "Bhima challenges him to a mace fight.\n",
      "Krishna signals Bhima to strike Duryodhanaâ€™s thighs, breaking the rules.\n",
      "Duryodhana is defeated but not dead yet.\n",
      "Ashwatthama, in vengeance, kills the Pandava children at night.\n",
      "He tries to kill the unborn Parikshit, but Krishna revives him.\n",
      "Gandhari curses Krishnaâ€™s Yadava clan to destruction.\n",
      "The Pandavas grieve but are victorious.\n",
      "Yudhishthira is reluctant to rule, but Krishna persuades him.\n",
      "Bhishma, on his deathbed, teaches Rajadharma.\n",
      "Yudhishthira is crowned king of Hastinapur.\n",
      "Krishna departs for Dwarka, fulfilling his mission.\n",
      "Years later, the Yadava clan perishes in internal strife.\n",
      "Krishna is shot by a hunterâ€™s arrow and leaves the world.\n",
      "The Pandavas, grief-stricken, decide to renounce the world.\n",
      "They embark on their final journey to the Himalayas.\n",
      "Draupadi is the first to fall, signifying her attachment to Arjuna.\n",
      "Sahadeva falls next, due to his pride in wisdom.\n",
      "Nakula follows, because of his vanity about his looks.\n",
      "Arjuna collapses, due to his pride in archery.\n",
      "Bhima falls, due to his gluttony and arrogance.\n",
      "Yudhishthira alone remains, along with a dog.\n",
      "The god Indra arrives to take Yudhishthira to heaven.\n",
      "Yudhishthira refuses unless the dog (Dharma in disguise) is allowed.\n",
      "Dharma reveals himself and grants Yudhishthira a place in heaven.\n",
      "Yudhishthira is shocked to see the Kauravas in heaven.\n",
      "He visits hell, where his brothers are suffering for their sins.\n",
      "He chooses to stay in hell with them out of love.\n",
      "It was all an illusion to test his righteousness.\n",
      "The Pandavas are granted eternal bliss in heaven.\n",
      "Vyasa compiles the Mahabharata, declaring it the greatest epic.\n",
      "The story is passed down through Sauti and Vaisampayana.\n",
      "It is said, \"What is not in the Mahabharata is nowhere in the world.\"\n",
      "The epic teaches Dharma, Karma, and Bhakti.\n",
      "The Bhagavad Gita becomes a sacred Hindu scripture.\n",
      "The war represents the battle between good and evil.\n",
      "Each character embodies virtues and vices.\n",
      "Krishnaâ€™s teachings remain timeless.\n",
      "The epic ends with Yudhishthira achieving Moksha.\n",
      "Arjunaâ€™s grandson Parikshit rules after them.\n",
      "The Kali Yuga begins post-war.\n",
      "The Mahabharata is the longest epic ever written.\n",
      "It spans over 100,000 verses.\n",
      "The lessons of the Mahabharata influence Hindu philosophy.\n",
      "It remains relevant in ethics, leadership, and life.\n",
      "The epic is a tale of Dharma, sacrifice, and fate.\n",
      "And thus, the great story lives forever.\n",
      "['King Shantanu of Hastinapur falls in love with Ganga.\\n', 'They marry, but she drowns seven sons; the eighth, Bhishma, survives.\\n', 'Bhishma takes a vow of celibacy and renounces the throne.\\n', 'Shantanu marries Satyavati, and they have two sonsâ€”Chitrangada and Vichitravirya.\\n', 'Chitrangada dies young, and Vichitravirya marries Ambika and Ambalika.\\n', 'Vichitravirya dies childless; Satyavati calls her son Vyasa to father heirs.\\n', 'Vyasa grants sons: Dhritarashtra (blind), Pandu (weakly), and Vidura (wise but not royal).\\n', 'Dhritarashtra marries Gandhari; she blindfolds herself.\\n', 'Pandu marries Kunti and Madri, but is cursed to die if he engages in intimacy.\\n', 'Kunti invokes divine blessings to bear Yudhishthira (Dharma), Bhima (Vayu), and Arjuna (Indra).\\n', 'Madri invokes the gods and has Nakula and Sahadeva (Ashvins).\\n', 'Pandu dies, and Kunti raises the Pandavas.\\n', 'Dhritarashtraâ€™s sons, the Kauravas, led by Duryodhana, despise the Pandavas.\\n', 'The Pandavas and Kauravas learn from Dronacharya.\\n', 'Arjuna excels in archery; Karna, an unknown warrior, challenges him.\\n', 'Duryodhana befriends Karna, making him king of Anga.\\n', 'Dronacharya demands Ekalavyaâ€™s thumb as guru-dakshina.\\n', 'The Pandavas and Kauravas display their skills in a grand exhibition.\\n', 'Duryodhana tries to poison Bhima, but he survives.\\n', 'The Pandavas marry Draupadi, who becomes their common wife.\\n', 'Duryodhana, with his uncle Shakuni, plots against the Pandavas.\\n', 'The Pandavas are sent to Varnavat, where they escape a burning house.\\n', 'They return in disguise and marry Draupadi through Arjunaâ€™s skill.\\n', 'They reveal themselves, and Dhritarashtra grants them Indraprastha.\\n', 'Arjuna goes on exile and marries Subhadra, Krishnaâ€™s sister.\\n', 'Maya Danava builds the grand palace of Indraprastha.\\n', 'Duryodhana, envious, is humiliated in the Pandava palace.\\n', 'Shakuni arranges a rigged dice game between Yudhishthira and Duryodhana.\\n', 'Yudhishthira loses everything, including Draupadi.\\n', 'Dushasana drags Draupadi to the court and tries to disrobe her.\\n', 'Krishna protects Draupadi by endless fabric.\\n', 'Dhritarashtra returns the Pandavasâ€™ kingdom, but another game is played.\\n', 'The Pandavas lose again and are exiled for 13 years.\\n', 'They wander forests, meeting sages and acquiring divine weapons.\\n', 'Bhima kills Kirmira and Hidimba, later marrying Hidimbi and having Ghatotkacha.\\n', 'Arjuna performs penance and receives Pashupatastra from Lord Shiva.\\n', 'The Pandavas serve in Virataâ€™s kingdom in disguise during the 13th year.\\n', 'Kichaka, a general, harasses Draupadi; Bhima kills him.\\n', 'The Kauravas attack Virataâ€™s kingdom; Arjuna defeats them.\\n', 'Krishna attempts to negotiate peace, but Duryodhana refuses.\\n', 'The Kurukshetra war begins with both sides preparing.\\n', 'Arjuna sees his kin on the battlefield and hesitates.\\n', 'Krishna delivers the Bhagavad Gita, motivating Arjuna to fight.\\n', 'Bhishma leads the Kaurava army; he is undefeated.\\n', 'Arjuna, with Shikhandiâ€™s help, defeats Bhishma.\\n', 'Bhishma lies on a bed of arrows, waiting for his time to die.\\n', 'Drona takes command, massacring warriors, including Abhimanyu.\\n', 'The Pandavas deceive Drona into believing his son Ashwatthama is dead.\\n', 'Drona lays down his arms and is killed by Dhrishtadyumna.\\n', 'Karna takes charge, fighting fiercely.\\n', 'Karna and Arjuna battle; Krishna saves Arjuna multiple times.\\n', 'Karnaâ€™s chariot wheel gets stuck; Arjuna kills him.\\n', 'Bhima kills Dushasana and drinks his blood in revenge.\\n', 'Duryodhana flees and hides in a lake.\\n', 'Bhima challenges him to a mace fight.\\n', 'Krishna signals Bhima to strike Duryodhanaâ€™s thighs, breaking the rules.\\n', 'Duryodhana is defeated but not dead yet.\\n', 'Ashwatthama, in vengeance, kills the Pandava children at night.\\n', 'He tries to kill the unborn Parikshit, but Krishna revives him.\\n', 'Gandhari curses Krishnaâ€™s Yadava clan to destruction.\\n', 'The Pandavas grieve but are victorious.\\n', 'Yudhishthira is reluctant to rule, but Krishna persuades him.\\n', 'Bhishma, on his deathbed, teaches Rajadharma.\\n', 'Yudhishthira is crowned king of Hastinapur.\\n', 'Krishna departs for Dwarka, fulfilling his mission.\\n', 'Years later, the Yadava clan perishes in internal strife.\\n', 'Krishna is shot by a hunterâ€™s arrow and leaves the world.\\n', 'The Pandavas, grief-stricken, decide to renounce the world.\\n', 'They embark on their final journey to the Himalayas.\\n', 'Draupadi is the first to fall, signifying her attachment to Arjuna.\\n', 'Sahadeva falls next, due to his pride in wisdom.\\n', 'Nakula follows, because of his vanity about his looks.\\n', 'Arjuna collapses, due to his pride in archery.\\n', 'Bhima falls, due to his gluttony and arrogance.\\n', 'Yudhishthira alone remains, along with a dog.\\n', 'The god Indra arrives to take Yudhishthira to heaven.\\n', 'Yudhishthira refuses unless the dog (Dharma in disguise) is allowed.\\n', 'Dharma reveals himself and grants Yudhishthira a place in heaven.\\n', 'Yudhishthira is shocked to see the Kauravas in heaven.\\n', 'He visits hell, where his brothers are suffering for their sins.\\n', 'He chooses to stay in hell with them out of love.\\n', 'It was all an illusion to test his righteousness.\\n', 'The Pandavas are granted eternal bliss in heaven.\\n', 'Vyasa compiles the Mahabharata, declaring it the greatest epic.\\n', 'The story is passed down through Sauti and Vaisampayana.\\n', 'It is said, \"What is not in the Mahabharata is nowhere in the world.\"\\n', 'The epic teaches Dharma, Karma, and Bhakti.\\n', 'The Bhagavad Gita becomes a sacred Hindu scripture.\\n', 'The war represents the battle between good and evil.\\n', 'Each character embodies virtues and vices.\\n', 'Krishnaâ€™s teachings remain timeless.\\n', 'The epic ends with Yudhishthira achieving Moksha.\\n', 'Arjunaâ€™s grandson Parikshit rules after them.\\n', 'The Kali Yuga begins post-war.\\n', 'The Mahabharata is the longest epic ever written.\\n', 'It spans over 100,000 verses.\\n', 'The lessons of the Mahabharata influence Hindu philosophy.\\n', 'It remains relevant in ethics, leadership, and life.\\n', 'The epic is a tale of Dharma, sacrifice, and fate.\\n', 'And thus, the great story lives forever.']\n"
     ]
    }
   ],
   "source": [
    "import os\n",
    "\n",
    "class FileReader:\n",
    "    def __init__(self, fp):\n",
    "        self.fp = fp\n",
    "\n",
    "    def read_file(self):\n",
    "        if not os.path.isfile(self.fp):\n",
    "            raise FileNotFoundError(\"File not found\")\n",
    "        with open(self.fp, \"r\") as f:\n",
    "            return f.read()\n",
    "\n",
    "    def read_lines(self):\n",
    "        if not os.path.isfile(self.fp):\n",
    "            raise FileNotFoundError(\"File not found\")\n",
    "        with open(self.fp, \"r\") as f:\n",
    "            return f.readlines()\n",
    "\n",
    "fp = \"mahabharat.txt\"\n",
    "fr = FileReader(fp)\n",
    "print(fr.read_file())\n",
    "print(fr.read_lines())\n"
   ]
  },
  {
   "cell_type": "markdown",
   "metadata": {},
   "source": [
    "##### 26.\tCreate a function which will accept the dictionary. Dictionary may have values any date type format. If values are in integer or float then return respective key "
   ]
  },
  {
   "cell_type": "code",
   "execution_count": null,
   "metadata": {},
   "outputs": [
    {
     "name": "stdout",
     "output_type": "stream",
     "text": [
      "['a', 'c', 'e']\n"
     ]
    }
   ],
   "source": [
    "def int_float_keys(redict):\n",
    "\n",
    "    keys = []\n",
    "    for key, val in dict_.items():\n",
    "        if isinstance(val, (int, float)):\n",
    "            keys.append(key)\n",
    "    return keys\n",
    "\n",
    "redict= {\"a\": 1,\"b\": \"hello\",\"c\": 3.14,\"d\": \"sanket\",\"e\": 797239828,\"f\": \"divya\"}\n",
    "keys = int_float_keys(redict)\n",
    "print(keys)"
   ]
  },
  {
   "cell_type": "markdown",
   "metadata": {},
   "source": [
    "##### 27.\tCreate one decorator having exception logic inside it and create another function which will refer to the decorator in case of errorse.g  val_name is the function validating name but customized error should be thrown from decorator \n"
   ]
  },
  {
   "cell_type": "code",
   "execution_count": null,
   "metadata": {},
   "outputs": [
    {
     "name": "stdout",
     "output_type": "stream",
     "text": [
      "sanket\n",
      "Invalid input type: Name must be a string\n"
     ]
    }
   ],
   "source": [
    "def val_inp(func):\n",
    "    def wrap(*args, **kwargs):\n",
    "        try:\n",
    "            return func(*args, **kwargs)\n",
    "        except ValueError as e:\n",
    "            raise ValueError(\"Invalid input: \" + str(e))\n",
    "        except TypeError as e:\n",
    "            raise TypeError(\"Invalid input type: \" + str(e))\n",
    "        except Exception as e:\n",
    "            raise Exception(\"An error occurred: \" + str(e))\n",
    "    return wrap\n",
    "\n",
    "@val_inp\n",
    "def val_nm(nm):\n",
    "    if not isinstance(nm, str):\n",
    "        raise TypeError(\"Name must be a string\")\n",
    "    if len(nm) < 2:\n",
    "        raise ValueError(\"Name must be at least 2 characters long\")\n",
    "    return nm\n",
    "try:\n",
    "    print(val_nm(\"sanket\"))\n",
    "    print(val_nm(123))  \n",
    "    print(val_nm(\"a\"))  \n",
    "except Exception as e:\n",
    "    print(e)"
   ]
  },
  {
   "cell_type": "markdown",
   "metadata": {},
   "source": [
    "##### 28.\tCreate a class User.  User will be instantiated based on key available in the dictionary. If dictionary is not having the key then generate error. If dictionary is having the key then display values against the same. "
   ]
  },
  {
   "cell_type": "code",
   "execution_count": null,
   "metadata": {},
   "outputs": [
    {
     "name": "stdout",
     "output_type": "stream",
     "text": [
      "{'age': 30, 'city': 'Akola'}\n",
      "\"key 'akash' not found\"\n"
     ]
    }
   ],
   "source": [
    "class User:\n",
    "    def __init__(self, my_dict, key):\n",
    "        if key not in my_dict:\n",
    "            raise KeyError(f\"key '{key}' not found\")\n",
    "        self.my_dict = my_dict\n",
    "        self.key = key\n",
    "\n",
    "    def display_values(self):\n",
    "        return self.my_dict[self.key]\n",
    "\n",
    "\n",
    "try:\n",
    "    i_user = User(my_dict, \"sanket\")\n",
    "    print(i_user.display_values())\n",
    "except KeyError as e:\n",
    "    print(e)\n",
    "\n",
    "try:\n",
    "    i_user = User(my_dict, \"akash\")\n",
    "    print(i_user.display_values())\n",
    "except KeyError as e:\n",
    "    print(e)\n",
    "\n",
    "my_dict = {\n",
    "    \"sanket\": {\"age\": 30, \"city\": \"Akola\"},\n",
    "    \"divya\": {\"age\": 29, \"city\": \"Nagpur\"},\n",
    "    \"sagar\": {\"age\": 22, \"city\": \"Pune\"}\n",
    "}"
   ]
  },
  {
   "cell_type": "markdown",
   "metadata": {},
   "source": [
    "##### 29.Create a class pharma. One user A will enter the medicine name and price.  Another user B will generate the bill based on entry done by the first user "
   ]
  },
  {
   "cell_type": "code",
   "execution_count": null,
   "metadata": {},
   "outputs": [
    {
     "name": "stdout",
     "output_type": "stream",
     "text": [
      "20.4\n",
      "44.5\n",
      "7.52\n"
     ]
    }
   ],
   "source": [
    "class Pharma:\n",
    "    def __init__(self):\n",
    "        self.med_dict = {}\n",
    "\n",
    "    def add_med(self, nm, pr):\n",
    "        self.med_dict[nm] = pr\n",
    "\n",
    "    def gen_bill(self, nm, qty):\n",
    "        if nm not in self.med_dict:\n",
    "            raise KeyError(f\"Medicine '{nm}' not found\")\n",
    "        return self.med_dict[nm] * qty   # bill count \n",
    "\n",
    "p = Pharma()\n",
    "\n",
    "# A enters medicine names and prices\n",
    "p.add_med(\"Paracetamol\", 10.2)\n",
    "p.add_med(\"Dolo\", 8.9)\n",
    "p.add_med(\"Combiflam\", 7.52)\n",
    "\n",
    "# B generates a bill\n",
    "try:\n",
    "    print(p.gen_bill(\"Paracetamol\", 2))\n",
    "    print(p.gen_bill(\"Dolo\", 5))\n",
    "    print(p.gen_bill(\"Combiflam\", 1))\n",
    "except KeyError as e:\n",
    "    print(e)"
   ]
  },
  {
   "cell_type": "markdown",
   "metadata": {},
   "source": [
    "#####  30.Read the file if the file contains number, then return the dictionary based on position and values of the number. "
   ]
  },
  {
   "cell_type": "code",
   "execution_count": 31,
   "metadata": {},
   "outputs": [
    {
     "name": "stdout",
     "output_type": "stream",
     "text": [
      "{'Pos_1': 30, 'Pos_2': 7972379828, 'Pos_3': 444109}\n"
     ]
    }
   ],
   "source": [
    "import re\n",
    "\n",
    "def read_file(fn):\n",
    "    try:\n",
    "        with open(fn, \"r\") as fp:\n",
    "            text = fp.read()\n",
    "            nums = re.findall(r'\\d+', text)\n",
    "            dict_ = {}\n",
    "            for i, num in enumerate(nums):\n",
    "                dict_[f\"Pos_{i+1}\"] = int(num)\n",
    "            return dict_\n",
    "    except FileNotFoundError:\n",
    "        print(f\"File '{fn}' not found\")\n",
    "\n",
    "# Example usage:\n",
    "fn = \"my_info.txt\"\n",
    "dict_ = read_file(fn)\n",
    "print(dict_)"
   ]
  },
  {
   "cell_type": "markdown",
   "metadata": {},
   "source": [
    "##### 31.Create a class for file reading file if the file contains number, then return the dictionary based on user object, having sub dictionary position and values of the number against that user file. "
   ]
  },
  {
   "cell_type": "code",
   "execution_count": null,
   "metadata": {},
   "outputs": [
    {
     "name": "stdout",
     "output_type": "stream",
     "text": [
      "{'User1': {'Pos_1': 30, 'Pos_2': 7972379828, 'Pos_3': 25, 'Pos_4': 7972379822, 'Pos_5': 25, 'Pos_6': 9766209468}}\n",
      "{'User2': {'Pos_1': 444109, 'Pos_2': 441101}}\n"
     ]
    }
   ],
   "source": [
    "import re\n",
    "\n",
    "class FileRead:\n",
    "    def __init__(self, us):\n",
    "        self.us = us\n",
    "        self.file_dict = {}\n",
    "\n",
    "    def read_file(self, fn):\n",
    "        try:\n",
    "            with open(fn, \"r\") as fp:\n",
    "                text = fp.read()\n",
    "                nums = re.findall(r'\\d+', text)\n",
    "                self.file_dict[self.us] = {}\n",
    "                for i, num in enumerate(nums):\n",
    "                    self.file_dict[self.us][f\"Pos_{i+1}\"] = int(num)\n",
    "        except FileNotFoundError:\n",
    "            print(f\"File '{fn}' not found\")\n",
    "\n",
    "    def get_file_dict(self):\n",
    "        return self.file_dict\n",
    "\n",
    "us1 = \"User1\"\n",
    "us2 = \"User2\"\n",
    "\n",
    "fr1 = FileRead(us1)\n",
    "fr1.read_file(\"file1.txt\")\n",
    "print(fr1.get_file_dict())\n",
    "\n",
    "fr2 = FileRead(us2)\n",
    "fr2.read_file(\"file2.txt\")\n",
    "print(fr2.get_file_dict())"
   ]
  },
  {
   "cell_type": "markdown",
   "metadata": {},
   "source": [
    "#### 32.In hotel booking portal, user will enter pan card name and mobile number, store the same information into dictionary after successful booking user will get confirmation number.  "
   ]
  },
  {
   "cell_type": "code",
   "execution_count": 45,
   "metadata": {},
   "outputs": [
    {
     "name": "stdout",
     "output_type": "stream",
     "text": [
      "Booking ID: 52881\n",
      "Sending booking ID to 7972379828\n",
      "SMS sent successfully\n",
      "{'52881': {'nm': 'Sanket Wade', 'mb': '7972379828'}}\n"
     ]
    }
   ],
   "source": [
    "import re\n",
    "import random\n",
    "\n",
    "class HB:\n",
    "    def __init__(self):\n",
    "        self.bk = {}\n",
    "\n",
    "    def vn(self, nm):\n",
    "        if len(nm) < 3:\n",
    "            raise ValueError(\"Name should be at least 3 characters long\")\n",
    "        if not re.match(\"^[a-zA-Z ]*$\", nm):\n",
    "            raise ValueError(\"Name should only contain letters and spaces\")\n",
    "\n",
    "    def vm(self, mb):\n",
    "        if not re.match(\"^[0-9]{10}$\", mb):\n",
    "            raise ValueError(\"Mobile number should be 10 digits long\")\n",
    "\n",
    "    def gbid(self):\n",
    "        return str(random.randint(10000, 99999))\n",
    "\n",
    "    def bh(self, nm, mb):\n",
    "        try:\n",
    "            self.vn(nm)\n",
    "            self.vm(mb)\n",
    "            bid = self.gbid()\n",
    "            self.bk[bid] = {\"nm\": nm, \"mb\": mb}\n",
    "            print(\"Booking ID:\", bid)\n",
    "            print(\"Sending booking ID to\", mb)\n",
    "            # Simulate sending SMS\n",
    "            print(\"SMS sent successfully\")\n",
    "            return bid\n",
    "        except ValueError as e:\n",
    "            print(e)\n",
    "\n",
    "    def gb(self):\n",
    "        return self.bk\n",
    "\n",
    "# Example usage:\n",
    "ht = HB()\n",
    "\n",
    "# User enters name and mobile number\n",
    "nm = \"Sanket Wade\"\n",
    "mb = \"7972379828\"\n",
    "# books a hotel\n",
    "bid = ht.bh(nm, mb)\n",
    "\n",
    "# receives bookings number\n",
    "bks = ht.gb()\n",
    "print(bks)\n"
   ]
  },
  {
   "cell_type": "markdown",
   "metadata": {},
   "source": [
    "##### 33.\tCreate a super class user. Having methods register, sing in, sign out.    Super class can be inherited by student, professor, admin Admin and students can view the marks and professor can enter the marks But marks can be visible to students on the given result date \n"
   ]
  },
  {
   "cell_type": "code",
   "execution_count": 47,
   "metadata": {},
   "outputs": [
    {
     "name": "stdout",
     "output_type": "stream",
     "text": [
      "User 'stu01' registered successfully!\n",
      "User 'prof01' registered successfully!\n",
      "User 'admin01' registered successfully!\n",
      "'prof01' signed in.\n",
      "Marks entered for stu01: 85\n",
      "'prof01' signed out.\n",
      "'admin01' signed in.\n",
      "Result date set for stu01: 2025-02-15\n",
      "Marks for stu01: 85\n",
      "'admin01' signed out.\n",
      "'stu01' signed in.\n",
      "Marks for stu01: 85\n",
      "'stu01' signed out.\n"
     ]
    }
   ],
   "source": [
    "import datetime\n",
    "\n",
    "class User:\n",
    "    def __init__(self, un, pw):\n",
    "        self.un = un  # Username\n",
    "        self.pw = pw  # Password\n",
    "        self.lg = False  # Login status\n",
    "\n",
    "    def rg(self):\n",
    "        print(f\"User '{self.un}' registered successfully!\")\n",
    "\n",
    "    def si(self, un, pw):\n",
    "        if self.un == un and self.pw == pw:\n",
    "            self.lg = True\n",
    "            print(f\"'{self.un}' signed in.\")\n",
    "        else:\n",
    "            print(\"Invalid credentials!\")\n",
    "\n",
    "    def so(self):\n",
    "        self.lg = False\n",
    "        print(f\"'{self.un}' signed out.\")\n",
    "\n",
    "class Student(User):\n",
    "    def __init__(self, un, pw):\n",
    "        super().__init__(un, pw)\n",
    "        self.mr = None  # Marks\n",
    "        self.rd = None  # Result date\n",
    "\n",
    "    def vm(self):\n",
    "        if self.rd and datetime.date.today() >= self.rd:\n",
    "            print(f\"Marks for {self.un}: {self.mr}\")\n",
    "        else:\n",
    "            print(\"Results not yet available!\")\n",
    "\n",
    "class Professor(User):\n",
    "    def em(self, st, mr):\n",
    "        if isinstance(st, Student):\n",
    "            st.mr = mr\n",
    "            print(f\"Marks entered for {st.un}: {mr}\")\n",
    "\n",
    "class Admin(User):\n",
    "    def vm(self, st):\n",
    "        if isinstance(st, Student):\n",
    "            print(f\"Marks for {st.un}: {st.mr}\")\n",
    "\n",
    "    def sr(self, st, rd):\n",
    "        if isinstance(st, Student):\n",
    "            st.rd = rd\n",
    "            print(f\"Result date set for {st.un}: {rd}\")\n",
    "\n",
    "# Example Usage\n",
    "st = Student(\"stu01\", \"pass123\")\n",
    "pr = Professor(\"prof01\", \"pass123\")\n",
    "ad = Admin(\"admin01\", \"pass123\")\n",
    "\n",
    "st.rg()\n",
    "pr.rg()\n",
    "ad.rg()\n",
    "\n",
    "pr.si(\"prof01\", \"pass123\")\n",
    "pr.em(st, 85)  # Professor enters marks\n",
    "pr.so()\n",
    "\n",
    "ad.si(\"admin01\", \"pass123\")\n",
    "ad.sr(st, datetime.date.today())  # Admin sets result date\n",
    "ad.vm(st)  # Admin views marks\n",
    "ad.so()\n",
    "\n",
    "st.si(\"stu01\", \"pass123\")\n",
    "st.vm()  # Student views marks\n",
    "st.so()\n"
   ]
  },
  {
   "cell_type": "markdown",
   "metadata": {},
   "source": [
    "##### 34.\tCreate suitable classes, methods and attributes for resume exchange. Employee to upload the file and the same file is visible to employer  "
   ]
  },
  {
   "cell_type": "code",
   "execution_count": null,
   "metadata": {},
   "outputs": [
    {
     "name": "stdout",
     "output_type": "stream",
     "text": [
      "emp01 uploaded resume: resume_emp01.pdf\n",
      "Employer viewing emp01's resume: resume_emp01.pdf\n"
     ]
    }
   ],
   "source": [
    "class Emp:\n",
    "    def __init__(self, un):\n",
    "        self.un = un  # Username\n",
    "        self.rs = None  # Resume file\n",
    "\n",
    "    def ur(self, fn):\n",
    "        \"\"\"Upload resume\"\"\"\n",
    "        self.rs = fn\n",
    "        print(f\"{self.un} uploaded resume: {fn}\")\n",
    "\n",
    "class Er:\n",
    "    def vr(self, emp):\n",
    "        \"\"\"View resume\"\"\"\n",
    "        if emp.rs:\n",
    "            print(f\"Employer viewing {emp.un}'s resume: {emp.rs}\")\n",
    "        else:\n",
    "            print(f\"No resume uploaded by {emp.un}\")\n",
    "\n",
    "e1 = Emp(\"emp01\")  # Applicant\n",
    "er = Er()  # Employer\n",
    "\n",
    "e1.ur(\"resume_emp01.pdf\")  # Applicant uploads resume\n",
    "er.vr(e1)  # Employer views resume\n"
   ]
  },
  {
   "cell_type": "code",
   "execution_count": null,
   "metadata": {},
   "outputs": [],
   "source": []
  },
  {
   "cell_type": "code",
   "execution_count": 1,
   "metadata": {},
   "outputs": [
    {
     "name": "stdout",
     "output_type": "stream",
     "text": [
      "Connected to EmployeeDB.\n",
      "Employee Sanket Wade added.\n",
      "Employee Ninad Patil added.\n",
      "Salary: 200000.00\n",
      "Leave applied for Employee ID 1 on 2025-02-20.\n",
      "(2, 1, '2025-02-20', 'Pending')\n",
      "Leave request not found.\n",
      "Connection closed.\n"
     ]
    }
   ],
   "source": [
    "import pyodbc\n",
    "\n",
    "class EmployeeDB:\n",
    "    def __init__(self, server, db_name):\n",
    "        \"\"\"Initialize database connection\"\"\"\n",
    "        self.server = server\n",
    "        self.db_name = db_name\n",
    "        self.conn = None\n",
    "        self.cur = None\n",
    "\n",
    "    def connect(self):\n",
    "        self.conn = pyodbc.connect(f'Driver={{SQL Server}};'\n",
    "                                   f'Server={self.server};'\n",
    "                                   f'Database={self.db_name};'\n",
    "                                   'Trusted_Connection=yes')\n",
    "        self.cur = self.conn.cursor()\n",
    "        print(f\"Connected to {self.db_name}.\")\n",
    "\n",
    "    def add_emp(self, name, mobile, addr, salary):\n",
    "        self.cur.execute(\"INSERT INTO Employees (Name, Mobile, Address, Salary) VALUES (?, ?, ?, ?)\",\n",
    "                         (name, mobile, addr, salary))\n",
    "        self.conn.commit()\n",
    "        print(f\"Employee {name} added.\")\n",
    "\n",
    "    def get_salary(self, eid):\n",
    "        self.cur.execute(\"SELECT Salary FROM Employees WHERE EmployeeID = ?\", (eid,))\n",
    "        salary = self.cur.fetchone()\n",
    "        print(f\"Salary: {salary[0]}\" if salary else \"Employee not found.\")\n",
    "\n",
    "    def apply_leave(self, eid, l_date):\n",
    "        self.cur.execute(\"INSERT INTO Leaves_Temp (EmployeeID, LeaveDate) VALUES (?, ?)\", (eid, l_date))\n",
    "        self.conn.commit()\n",
    "        print(f\"Leave applied for Employee ID {eid} on {l_date}.\")\n",
    "\n",
    "    def view_leaves(self):\n",
    "        self.cur.execute(\"SELECT * FROM Leaves_Temp WHERE Status = 'Pending'\")\n",
    "        leaves = self.cur.fetchall()\n",
    "        for leave in leaves:\n",
    "            print(leave)\n",
    "\n",
    "    def approve_leave(self, lid):\n",
    "        self.cur.execute(\"SELECT EmployeeID, LeaveDate FROM Leaves_Temp WHERE LeaveID = ?\", (lid,))\n",
    "        leave_record = self.cur.fetchone()\n",
    "        if leave_record:\n",
    "            self.cur.execute(\"INSERT INTO Leaves (LeaveID, EmployeeID, LeaveDate) VALUES (?, ?, ?)\",\n",
    "                             (lid, leave_record[0], leave_record[1]))\n",
    "            self.cur.execute(\"DELETE FROM Leaves_Temp WHERE LeaveID = ?\", (lid,))\n",
    "            self.conn.commit()\n",
    "            print(f\"Leave ID {lid} approved.\")\n",
    "        else:\n",
    "            print(\"Leave request not found.\")\n",
    "\n",
    "    def close(self):\n",
    "        \"\"\"Close database connection\"\"\"\n",
    "        if self.cur:\n",
    "            self.cur.close()\n",
    "        if self.conn:\n",
    "            self.conn.close()\n",
    "        print(\"Connection closed.\")\n",
    "\n",
    "# Example Usage\n",
    "if __name__ == \"__main__\":\n",
    "    db = EmployeeDB(server=\"GOD_HUNUMAN\", db_name=\"EmployeeDB\")\n",
    "\n",
    "    db.connect()  # Connect to the database\n",
    "\n",
    "    # Add employees\n",
    "    db.add_emp(\"Sanket Wade\", \"9876543212\", \"Pune\", 200000)\n",
    "    db.add_emp(\"Ninad Patil\", \"9876543213\", \"Latur\", 60000)\n",
    "\n",
    "    db.get_salary(1)  # Fetch salary\n",
    "    db.apply_leave(1, \"2025-02-20\")  # Apply for leave\n",
    "    db.view_leaves()  # View pending leaves\n",
    "    db.approve_leave(1)  # Approve leave\n",
    "    db.close()  # Close connection\n"
   ]
  }
 ],
 "metadata": {
  "kernelspec": {
   "display_name": "Python 3",
   "language": "python",
   "name": "python3"
  },
  "language_info": {
   "codemirror_mode": {
    "name": "ipython",
    "version": 3
   },
   "file_extension": ".py",
   "mimetype": "text/x-python",
   "name": "python",
   "nbconvert_exporter": "python",
   "pygments_lexer": "ipython3",
   "version": "3.8.10"
  }
 },
 "nbformat": 4,
 "nbformat_minor": 2
}
