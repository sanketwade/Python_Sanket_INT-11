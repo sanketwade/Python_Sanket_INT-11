{
 "cells": [
  {
   "cell_type": "code",
   "execution_count": 1,
   "metadata": {},
   "outputs": [
    {
     "name": "stdout",
     "output_type": "stream",
     "text": [
      "Age: 39\n"
     ]
    }
   ],
   "source": [
    "from datetime import datetime\n",
    "\n",
    "def calculate_age(dob):\n",
    "    try:\n",
    "        # Convert the input string into a date object\n",
    "        birth_date = datetime.strptime(dob, \"%d-%m-%Y\")\n",
    "        today = datetime.today()\n",
    "        \n",
    "        # Calculate the age\n",
    "        age = today.year - birth_date.year\n",
    "        \n",
    "        # Adjust if the birthday hasn't occurred yet this year\n",
    "        if (today.month, today.day) < (birth_date.month, birth_date.day):\n",
    "            age -= 1\n",
    "        \n",
    "        return f\"Age: {age}\"\n",
    "    except ValueError:\n",
    "        return \"Invalid date format. Please enter DOB as DD-MM-YYYY.\"\n",
    "\n",
    "# Example usage\n",
    "dob_input = input(\"Enter your date of birth (DD-MM-YYYY): \")\n",
    "print(calculate_age(dob_input))\n"
   ]
  },
  {
   "cell_type": "code",
   "execution_count": null,
   "metadata": {},
   "outputs": [],
   "source": []
  }
 ],
 "metadata": {
  "kernelspec": {
   "display_name": "base",
   "language": "python",
   "name": "python3"
  },
  "language_info": {
   "codemirror_mode": {
    "name": "ipython",
    "version": 3
   },
   "file_extension": ".py",
   "mimetype": "text/x-python",
   "name": "python",
   "nbconvert_exporter": "python",
   "pygments_lexer": "ipython3",
   "version": "3.11.7"
  }
 },
 "nbformat": 4,
 "nbformat_minor": 2
}
