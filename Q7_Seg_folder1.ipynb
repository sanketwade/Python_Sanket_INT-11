{
 "cells": [
  {
   "cell_type": "code",
   "execution_count": 2,
   "metadata": {},
   "outputs": [],
   "source": [
    "import os\n",
    "import shutil\n",
    "import sys\n",
    "\n",
    "def file_size(source_folder, small_size, middle_size):\n",
    "  \n",
    "    small_size_folder = os.path.join(source_folder, 'small_size')\n",
    "    middle_size_folder = os.path.join(source_folder, 'middle_size')\n",
    "    large_size_folder = os.path.join(source_folder, 'large_size')\n",
    "    \n",
    "    os.makedirs(small_size_folder, exist_ok=True)\n",
    "    os.makedirs(middle_size_folder, exist_ok=True)\n",
    "    os.makedirs(large_size_folder, exist_ok=True)\n",
    "    \n",
    "    # combine files with togather\n",
    "    for file_name in os.listdir(source_folder):\n",
    "        file_path = os.path.join(source_folder, file_name)\n",
    "        \n",
    "        # Skip directories\n",
    "        if os.path.isdir(file_path):\n",
    "            continue\n",
    "        \n",
    "    \n",
    "        file_size = os.path.getsize(file_path) # file size \n",
    "        \n",
    "        # Categorize and move files based on size\n",
    "        if file_size <= small_size:\n",
    "            shutil.move(file_path, os.path.join(small_size_folder, file_name))\n",
    "        elif file_size <= middle_size:\n",
    "            shutil.move(file_path, os.path.join(middle_size_folder, file_name))\n",
    "        else:\n",
    "            shutil.move(file_path, os.path.join(large_size_folder, file_name))\n",
    "\n",
    "# Example usage\n",
    "source_directory = 'C:\\\\Users\\\\sanke\\\\Desktop\\\\book_data'  # folder path\n",
    "small_file_limit = 1024 * 1024  # 1 MB\n",
    "middle_file_limit = 10 * 1024 * 1024  # 10 MB\n",
    "\n",
    "file_size(source_directory, small_file_limit, middle_file_limit)\n"
   ]
  },
  {
   "cell_type": "code",
   "execution_count": null,
   "metadata": {},
   "outputs": [],
   "source": []
  },
  {
   "cell_type": "code",
   "execution_count": null,
   "metadata": {},
   "outputs": [],
   "source": []
  }
 ],
 "metadata": {
  "kernelspec": {
   "display_name": "Python 3",
   "language": "python",
   "name": "python3"
  },
  "language_info": {
   "codemirror_mode": {
    "name": "ipython",
    "version": 3
   },
   "file_extension": ".py",
   "mimetype": "text/x-python",
   "name": "python",
   "nbconvert_exporter": "python",
   "pygments_lexer": "ipython3",
   "version": "3.8.10"
  }
 },
 "nbformat": 4,
 "nbformat_minor": 2
}
