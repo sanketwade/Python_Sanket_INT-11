{
 "cells": [
  {
   "cell_type": "markdown",
   "metadata": {},
   "source": [
    "##### Q2 User will enter the start date and end date. Ask user to enter the task to be done on weekdays. If it is weekend then no task should be allotted. "
   ]
  },
  {
   "cell_type": "code",
   "execution_count": 2,
   "metadata": {},
   "outputs": [
    {
     "name": "stdout",
     "output_type": "stream",
     "text": [
      "Start Date:-> 24-04-2025\n",
      "_____________________________________________________________\n",
      "\n",
      "End Date:-> 25-04-2025\n",
      "Task for 24-04-2025: A\n",
      "Task for 25-04-2025: B\n"
     ]
    }
   ],
   "source": [
    "from datetime import datetime\n",
    "from datetime import timedelta\n",
    "# Get user input for dates\n",
    "start_date = input(\"Enter the start date DD-MM-YYYY: \")\n",
    "end_date = input(\"Enter the end date (DD-MM-YYYY): \")\n",
    "print(\"Start Date:->\",start_date)\n",
    "print(\"_____________________________________________________________\")\n",
    "print(\"\")\n",
    "print(\"End Date:->\",end_date)\n",
    "# Convert input strings to date objects\n",
    "start_date = datetime.strptime(start_date, \"%d-%m-%Y\")\n",
    "end_date = datetime.strptime(end_date, \"%d-%m-%Y\")\n",
    "# Loop through each date\n",
    "current_date = start_date\n",
    "while current_date <= end_date:\n",
    "    # Check if it's a weekend\n",
    "    if current_date.weekday() >= 5:  # 5 = Saturday, 6 = Sunday\n",
    "        print(f\"{current_date.strftime('%d-%m-%Y')} is a weekend. No task assigned.\")\n",
    "    else:\n",
    "        task = input(f\"Enter task for {current_date.strftime('%d-%m-%Y')}: \")\n",
    "        print(f\"Task for {current_date.strftime('%d-%m-%Y')}: {task}\")\n",
    "    current_date += timedelta(days=1)\n"
   ]
  },
  {
   "cell_type": "code",
   "execution_count": 4,
   "metadata": {},
   "outputs": [
    {
     "name": "stdout",
     "output_type": "stream",
     "text": [
      "Start Date:-> 24jan2025\n",
      "_____________________________________________________________\n",
      "\n",
      "End Date:-> 25jan2025\n",
      "\n",
      "Task for 24Jan2025: d\n",
      "25Jan2025 is a weekend. No task assigned.\n"
     ]
    }
   ],
   "source": [
    "from datetime import datetime, timedelta\n",
    "\n",
    "# Get user input for dates\n",
    "start_date = input(\"Enter the start date (DDMMMYYYY): \")\n",
    "end_date = input(\"Enter the end date (DDMMMYYYY): \")\n",
    "\n",
    "print(\"Start Date:->\", start_date)\n",
    "print(\"_____________________________________________________________\")\n",
    "print(\"\")\n",
    "print(\"End Date:->\", end_date)\n",
    "\n",
    "# Convert input strings to date objects\n",
    "start_date = datetime.strptime(start_date, \"%d%b%Y\")\n",
    "end_date = datetime.strptime(end_date, \"%d%b%Y\")\n",
    "\n",
    "print()\n",
    "# Loop through each date\n",
    "current_date = start_date\n",
    "while current_date <= end_date:\n",
    "    # Check if it's a weekend\n",
    "    if current_date.weekday() >= 5:  # 5 = Saturday, 6 = Sunday\n",
    "        print(f\"{current_date.strftime('%d%b%Y')} is a weekend. No task assigned.\")\n",
    "    else:\n",
    "        task = input(f\"Enter task for {current_date.strftime('%d%b%Y')}: \")\n",
    "        print(f\"Task for {current_date.strftime('%d%b%Y')}: {task}\")\n",
    "    current_date += timedelta(days=1)"
   ]
  },
  {
   "cell_type": "code",
   "execution_count": 6,
   "metadata": {},
   "outputs": [
    {
     "name": "stdout",
     "output_type": "stream",
     "text": [
      "Start Date:-> 24-04-2025\n",
      "_____________________________________________________________\n",
      "\n",
      "End Date:-> 26-04-2025\n",
      "\n",
      "Task for 24 Apr 2025: S\n",
      "Task for 25 Apr 2025: S\n",
      "26 Apr 2025 is a weekend. No task assigned.\n"
     ]
    }
   ],
   "source": [
    "from datetime import datetime, timedelta\n",
    "\n",
    "# Get user input for dates\n",
    "start_date = input(\"Enter the start date (DD-MM-YYYY): \")\n",
    "end_date = input(\"Enter the end date (DD-MM-YYYY): \")\n",
    "\n",
    "print(\"Start Date:->\", start_date)\n",
    "print(\"_____________________________________________________________\")\n",
    "print(\"\")\n",
    "print(\"End Date:->\", end_date)\n",
    "print()\n",
    "\n",
    "# Convert input strings to date objects\n",
    "start_date = datetime.strptime(start_date, \"%d-%m-%Y\")\n",
    "end_date = datetime.strptime(end_date, \"%d-%m-%Y\")\n",
    "\n",
    "# Loop through each date\n",
    "current_date = start_date\n",
    "while current_date <= end_date:\n",
    "    # Check if it's a weekend\n",
    "    if current_date.weekday() >= 5:  # 5 = Saturday, 6 = Sunday\n",
    "        print(f\"{current_date.strftime('%d %b %Y')} is a weekend. No task assigned.\")\n",
    "    else:\n",
    "        task = input(f\"Enter task for {current_date.strftime('%d %b %Y')}: \")\n",
    "        print(f\"Task for {current_date.strftime('%d %b %Y')}: {task}\") # %b for JAN FEB MAR format MMM\n",
    "    current_date += timedelta(days=1)"
   ]
  },
  {
   "cell_type": "code",
   "execution_count": null,
   "metadata": {},
   "outputs": [],
   "source": []
  }
 ],
 "metadata": {
  "kernelspec": {
   "display_name": "Python 3",
   "language": "python",
   "name": "python3"
  },
  "language_info": {
   "codemirror_mode": {
    "name": "ipython",
    "version": 3
   },
   "file_extension": ".py",
   "mimetype": "text/x-python",
   "name": "python",
   "nbconvert_exporter": "python",
   "pygments_lexer": "ipython3",
   "version": "3.8.10"
  }
 },
 "nbformat": 4,
 "nbformat_minor": 2
}
